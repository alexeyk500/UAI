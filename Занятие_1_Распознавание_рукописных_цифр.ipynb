{
  "nbformat": 4,
  "nbformat_minor": 0,
  "metadata": {
    "colab": {
      "name": "Copy of Февральский курс. Pro. Занятие 1. Распознавание рукописных цифр",
      "provenance": [],
      "collapsed_sections": [
        "8OsyUFVULEkG"
      ],
      "include_colab_link": true
    },
    "kernelspec": {
      "name": "python3",
      "display_name": "Python 3"
    },
    "accelerator": "GPU"
  },
  "cells": [
    {
      "cell_type": "markdown",
      "metadata": {
        "id": "view-in-github",
        "colab_type": "text"
      },
      "source": [
        "<a href=\"https://colab.research.google.com/github/alexeyk500/UAI/blob/master/%D0%97%D0%B0%D0%BD%D1%8F%D1%82%D0%B8%D0%B5_1_%D0%A0%D0%B0%D1%81%D0%BF%D0%BE%D0%B7%D0%BD%D0%B0%D0%B2%D0%B0%D0%BD%D0%B8%D0%B5_%D1%80%D1%83%D0%BA%D0%BE%D0%BF%D0%B8%D1%81%D0%BD%D1%8B%D1%85_%D1%86%D0%B8%D1%84%D1%80.ipynb\" target=\"_parent\"><img src=\"https://colab.research.google.com/assets/colab-badge.svg\" alt=\"Open In Colab\"/></a>"
      ]
    },
    {
      "cell_type": "markdown",
      "metadata": {
        "id": "Ah7dy1kFL2H9",
        "colab_type": "text"
      },
      "source": [
        "# Распознавание рукописных цифр из набора данных MNIST с помощью Keras\n",
        "\n",
        "Чтобы запускать и редактировать код, сохраните копию этого ноутбука себе (File->Save a copy in Drive...). Свою копию вы сможете изменять и запускать."
      ]
    },
    {
      "cell_type": "code",
      "metadata": {
        "id": "qrfd6FzSLrE2",
        "colab_type": "code",
        "outputId": "9dbad007-fe56-4c3c-cbc7-b890ea105d5b",
        "colab": {
          "base_uri": "https://localhost:8080/",
          "height": 63
        }
      },
      "source": [
        "from tensorflow.keras.datasets import mnist #Библиотека с базой Mnist\n",
        "from tensorflow.keras.models import Sequential #НС прямого распространения\n",
        "from tensorflow.keras.layers import Dense #Полносвязные слой\n",
        "from tensorflow.keras import utils #Утилиты для to_categorical\n",
        "from tensorflow.keras.preprocessing import image #Для отрисовки изображения\n",
        "from google.colab import files #Для загрузки своей картинки\n",
        "import numpy as np #Библиотека работы с массивами\n",
        "import matplotlib.pyplot as plt #Отрисовка изображений\n",
        "from PIL import Image #Отрисовка изображений\n",
        "#Отрисовывать изображения в ноутбуке, а не в консоль или файл\n",
        "%matplotlib inline "
      ],
      "execution_count": 1,
      "outputs": [
        {
          "output_type": "display_data",
          "data": {
            "text/html": [
              "<p style=\"color: red;\">\n",
              "The default version of TensorFlow in Colab will soon switch to TensorFlow 2.x.<br>\n",
              "We recommend you <a href=\"https://www.tensorflow.org/guide/migrate\" target=\"_blank\">upgrade</a> now \n",
              "or ensure your notebook will continue to use TensorFlow 1.x via the <code>%tensorflow_version 1.x</code> magic:\n",
              "<a href=\"https://colab.research.google.com/notebooks/tensorflow_version.ipynb\" target=\"_blank\">more info</a>.</p>\n"
            ],
            "text/plain": [
              "<IPython.core.display.HTML object>"
            ]
          },
          "metadata": {
            "tags": []
          }
        }
      ]
    },
    {
      "cell_type": "markdown",
      "metadata": {
        "id": "xiurjCBVMDTG",
        "colab_type": "text"
      },
      "source": [
        "## Подготовка данных для обучения сети"
      ]
    },
    {
      "cell_type": "markdown",
      "metadata": {
        "id": "1yDF75Cx8VPz",
        "colab_type": "text"
      },
      "source": [
        "**Загружаем набор данных с рукописными цифрами**"
      ]
    },
    {
      "cell_type": "code",
      "metadata": {
        "id": "E5L3LUIi8PDV",
        "colab_type": "code",
        "outputId": "c311466d-c6fa-4f68-f8e8-b48f89c1d573",
        "colab": {
          "base_uri": "https://localhost:8080/",
          "height": 51
        }
      },
      "source": [
        "#Загрузка данных Mnist\n",
        "#x_train_org - входные картинки, обучающая выбрка\n",
        "#y_train_org - выходные индексы, обучающая выборка\n",
        "#x_test_org - входные картинки, тестовая выбрка\n",
        "#y_test_org - выходные индексы, тестовая выборка\n",
        "(x_train_org, y_train_org), (x_test_org, y_test_org) = mnist.load_data()"
      ],
      "execution_count": 2,
      "outputs": [
        {
          "output_type": "stream",
          "text": [
            "Downloading data from https://storage.googleapis.com/tensorflow/tf-keras-datasets/mnist.npz\n",
            "11493376/11490434 [==============================] - 0s 0us/step\n"
          ],
          "name": "stdout"
        }
      ]
    },
    {
      "cell_type": "code",
      "metadata": {
        "id": "ga0DtPJQVkEh",
        "colab_type": "code",
        "outputId": "b0aa7110-c3a7-46c9-db64-edb9f158cca0",
        "colab": {
          "base_uri": "https://localhost:8080/",
          "height": 265
        }
      },
      "source": [
        "n = 114 #Номер картинки\n",
        "\n",
        "#Отрисовка картинки\n",
        "#Image.fromarray - создание картинки по массиву\n",
        "#.convert('RGBA') - преобразование в RGBA формат\n",
        "plt.imshow(Image.fromarray(x_train_org[n]).convert('RGBA'))\n",
        "plt.show()"
      ],
      "execution_count": 7,
      "outputs": [
        {
          "output_type": "display_data",
          "data": {
            "image/png": "[encoded data removed]",
            "text/plain": [
              "<Figure size 432x288 with 1 Axes>"
            ]
          },
          "metadata": {
            "tags": []
          }
        }
      ]
    },
    {
      "cell_type": "markdown",
      "metadata": {
        "id": "7uXTnIojJLbl",
        "colab_type": "text"
      },
      "source": [
        "**Преобразование размерности данных в наборе**"
      ]
    },
    {
      "cell_type": "code",
      "metadata": {
        "id": "GBAqLKjGJJ-V",
        "colab_type": "code",
        "colab": {}
      },
      "source": [
        "#Меняем формат входных картинок с 28х28 на 784х1\n",
        "#Это нужно для удобства работы с полносвязным слоем (Dense)\n",
        "#С двумерной картинкой мы будем работать в будущем с помощью свёрточных сетей\n",
        "#Функция .reshape меняет размер массива\n",
        "x_train = x_train_org.reshape(60000, 784)\n",
        "x_test = x_test_org.reshape(10000, 784)"
      ],
      "execution_count": 0,
      "outputs": []
    },
    {
      "cell_type": "code",
      "metadata": {
        "id": "4BG1ku8uNa4l",
        "colab_type": "code",
        "outputId": "4779530a-57aa-4b72-e990-3b1a4d0be45c",
        "colab": {
          "base_uri": "https://localhost:8080/",
          "height": 51
        }
      },
      "source": [
        "print(x_train_org.shape)\n",
        "print(x_train.shape)"
      ],
      "execution_count": 4,
      "outputs": [
        {
          "output_type": "stream",
          "text": [
            "(60000, 28, 28)\n",
            "(60000, 784)\n"
          ],
          "name": "stdout"
        }
      ]
    },
    {
      "cell_type": "markdown",
      "metadata": {
        "id": "hDaHO5LgJYxU",
        "colab_type": "text"
      },
      "source": [
        "**Нормализация данных**"
      ]
    },
    {
      "cell_type": "code",
      "metadata": {
        "id": "rscaAuBNJdq9",
        "colab_type": "code",
        "colab": {}
      },
      "source": [
        "#Нормализуем входные картинки\n",
        "#НС лучше работают, если данные нормаваны от 0 до 1\n",
        "#Сейчас значения во входных картинках от 0 до 255\n",
        "#Надо разделить картинки на 255\n",
        "#И сначала преобразовать картинки в тип float (цифры с плавающей точкой)\n",
        "x_train = x_train.astype('float32')\n",
        "x_train = x_train / 255\n",
        "x_test = x_test.astype('float32')\n",
        "x_test = x_test / 255 "
      ],
      "execution_count": 0,
      "outputs": []
    },
    {
      "cell_type": "markdown",
      "metadata": {
        "id": "KRcMlNzqJk1t",
        "colab_type": "text"
      },
      "source": [
        "**Работа с правильными ответами**"
      ]
    },
    {
      "cell_type": "code",
      "metadata": {
        "id": "A5lKe_syJqPu",
        "colab_type": "code",
        "outputId": "9ebe1c46-0be5-427c-c489-f67cc4da3fd7",
        "colab": {
          "base_uri": "https://localhost:8080/",
          "height": 34
        }
      },
      "source": [
        "#Выводим пример индекса в выходных данных\n",
        "print(y_train_org[n])"
      ],
      "execution_count": 8,
      "outputs": [
        {
          "output_type": "stream",
          "text": [
            "0\n"
          ],
          "name": "stdout"
        }
      ]
    },
    {
      "cell_type": "markdown",
      "metadata": {
        "id": "zqJ9GA1kJxBF",
        "colab_type": "text"
      },
      "source": [
        "**Преобразуем метки в формат one hot encoding**"
      ]
    },
    {
      "cell_type": "code",
      "metadata": {
        "id": "zQnasUyyJ3cG",
        "colab_type": "code",
        "colab": {}
      },
      "source": [
        "#НС сложно работать с чистыми индексами от 0 до 9\n",
        "#Ей проще работать с данными в формате one hot encoding\n",
        "#Это формат из 10 цифр - все 0 и одна 1 там, где правильный ответ\n",
        "#Например\n",
        "#Индекс 0 - это [1 0 0 0 0 0 0 0 0 0]\n",
        "#Индекс 2 - это [0 0 1 0 0 0 0 0 0 0]\n",
        "#Индекс 9 - это [0 0 0 0 0 0 0 0 0 1]\n",
        "#Это делается функцией utils.to_categorical()\n",
        "#Второй параметр - это количество классов, у нас - 10\n",
        "y_train = utils.to_categorical(y_train_org, 10)\n",
        "y_test = utils.to_categorical(y_test_org, 10)"
      ],
      "execution_count": 0,
      "outputs": []
    },
    {
      "cell_type": "markdown",
      "metadata": {
        "id": "KfuqlyjHJ_ye",
        "colab_type": "text"
      },
      "source": [
        "**Правильный ответ в формате one hot encoding**"
      ]
    },
    {
      "cell_type": "code",
      "metadata": {
        "id": "9zUfd1aeKH3e",
        "colab_type": "code",
        "outputId": "a92b7a8c-2af2-442a-a9ef-ea583df4476c",
        "colab": {
          "base_uri": "https://localhost:8080/",
          "height": 34
        }
      },
      "source": [
        "#Выводим размер y_train\n",
        "#60 тысяч примеров, каждый размера 10 (так как 10 классов)\n",
        "print(y_train.shape)"
      ],
      "execution_count": 10,
      "outputs": [
        {
          "output_type": "stream",
          "text": [
            "(60000, 10)\n"
          ],
          "name": "stdout"
        }
      ]
    },
    {
      "cell_type": "code",
      "metadata": {
        "id": "KWYwnS5giydM",
        "colab_type": "code",
        "outputId": "adbfced7-7b6a-4990-88ae-d95d582816c7",
        "colab": {
          "base_uri": "https://localhost:8080/",
          "height": 34
        }
      },
      "source": [
        "#Выводим пример одного выходного вектора\n",
        "print(y_train[n])"
      ],
      "execution_count": 11,
      "outputs": [
        {
          "output_type": "stream",
          "text": [
            "[1. 0. 0. 0. 0. 0. 0. 0. 0. 0.]\n"
          ],
          "name": "stdout"
        }
      ]
    },
    {
      "cell_type": "markdown",
      "metadata": {
        "id": "BmTr_lXTKNbN",
        "colab_type": "text"
      },
      "source": [
        "## Создаем нейронную сеть"
      ]
    },
    {
      "cell_type": "markdown",
      "metadata": {
        "id": "fV_igNZuMNXe",
        "colab_type": "text"
      },
      "source": [
        "**Создаем последовательную модель**"
      ]
    },
    {
      "cell_type": "code",
      "metadata": {
        "id": "D-jPYYxIKQkt",
        "colab_type": "code",
        "colab": {}
      },
      "source": [
        "#Создаём сеть прямого распространения\n",
        "#Пока она пустая\n",
        "#Подробнее на https://keras.io/models/sequential/\n",
        "model = Sequential()"
      ],
      "execution_count": 0,
      "outputs": []
    },
    {
      "cell_type": "markdown",
      "metadata": {
        "id": "Q3QzIVtBMQRG",
        "colab_type": "text"
      },
      "source": [
        "**Добавляем уровни сети**\n"
      ]
    },
    {
      "cell_type": "code",
      "metadata": {
        "id": "kYVSvpNIMSnG",
        "colab_type": "code",
        "outputId": "150b33bf-6e77-43f0-80ce-d3d1d4fef6c3",
        "colab": {
          "base_uri": "https://localhost:8080/",
          "height": 88
        }
      },
      "source": [
        "#Добавляем в сеть полносвязные слои\n",
        "#Dense - полносвязный слой, подробнее на https://keras.io/layers/core/\n",
        "#Первый парамерт - количество нейронок, обычно от 2 до 2000, подбирается в ходе исследования\n",
        "#input_dim - размер входного вектора, указывается только в первом слое сети\n",
        "#activation - активационная функция нейронов данного слоя\n",
        "#relu - одна из активационных функций, подробнее на https://keras.io/activations/\n",
        "model.add(Dense(800, input_dim=784, activation=\"relu\"))\n",
        "model.add(Dense(400, activation=\"relu\"))\n",
        "\n",
        "#Выходной полносвязный слой, 10 нейронов (по количеству рукописных цифр)\n",
        "#activation=\"softmax\" - активационная функция, \n",
        "#которая делает сумму всех значений нейронов слой, равной 1\n",
        "#Подробнее https://keras.io/activations/\n",
        "model.add(Dense(10, activation=\"softmax\"))"
      ],
      "execution_count": 13,
      "outputs": [
        {
          "output_type": "stream",
          "text": [
            "WARNING:tensorflow:From /usr/local/lib/python3.6/dist-packages/tensorflow_core/python/ops/resource_variable_ops.py:1630: calling BaseResourceVariable.__init__ (from tensorflow.python.ops.resource_variable_ops) with constraint is deprecated and will be removed in a future version.\n",
            "Instructions for updating:\n",
            "If using Keras pass *_constraint arguments to layers.\n"
          ],
          "name": "stdout"
        }
      ]
    },
    {
      "cell_type": "markdown",
      "metadata": {
        "id": "G__m76T-KWhd",
        "colab_type": "text"
      },
      "source": [
        "**Компилируем сеть**"
      ]
    },
    {
      "cell_type": "code",
      "metadata": {
        "id": "PTcbSxchKZjd",
        "colab_type": "code",
        "outputId": "1a6d5b98-289b-49a5-bd0f-9b2f7771721b",
        "colab": {
          "base_uri": "https://localhost:8080/",
          "height": 272
        }
      },
      "source": [
        "#Нейронку надо \"скомпилировать\"\n",
        "#При компиляции мы задаём несколько параметров\n",
        "#loss - функция ошибки, которую оптимизирует сеть\n",
        "#categorical_crossentropy - одна из функций ошибки, подходящая для классификации нескольких классов, подробнее https://keras.io/activations/\n",
        "#optimizer - алгоритм обучения НС\n",
        "#adam - один из алгоритмов обучения НС, подробнее https://keras.io/optimizers/\n",
        "#metrics - метрика качества обучения, измеряется после каждой эпохи обучения\n",
        "#accuracy - метрика, процент правильно распознанных примеров, подробнее https://keras.io/metrics/\n",
        "model.compile(loss=\"categorical_crossentropy\", optimizer=\"adam\", metrics=[\"accuracy\"])\n",
        "\n",
        "#Вывод структуры нейронки\n",
        "print(model.summary())"
      ],
      "execution_count": 14,
      "outputs": [
        {
          "output_type": "stream",
          "text": [
            "Model: \"sequential\"\n",
            "_________________________________________________________________\n",
            "Layer (type)                 Output Shape              Param #   \n",
            "=================================================================\n",
            "dense (Dense)                (None, 800)               628000    \n",
            "_________________________________________________________________\n",
            "dense_1 (Dense)              (None, 400)               320400    \n",
            "_________________________________________________________________\n",
            "dense_2 (Dense)              (None, 10)                4010      \n",
            "=================================================================\n",
            "Total params: 952,410\n",
            "Trainable params: 952,410\n",
            "Non-trainable params: 0\n",
            "_________________________________________________________________\n",
            "None\n"
          ],
          "name": "stdout"
        }
      ]
    },
    {
      "cell_type": "markdown",
      "metadata": {
        "id": "lspCHiaCKl72",
        "colab_type": "text"
      },
      "source": [
        "## Обучаем нейронную сеть"
      ]
    },
    {
      "cell_type": "code",
      "metadata": {
        "id": "H6EIXu1dKoju",
        "colab_type": "code",
        "outputId": "8528a224-2a8a-46c5-ff64-11ec121b3bde",
        "colab": {
          "base_uri": "https://localhost:8080/",
          "height": 1000
        }
      },
      "source": [
        "#fit - функция обучения нейронки\n",
        "#x_train, y_train - обучающая выборка, входные и выходные данные\n",
        "#batch_size - размер батча, количество примеров, которое обрабатывает нейронка, перед одним изменением весов\n",
        "#epochs - количество эпох, когда нейронка обучается на всех примерах выбрки\n",
        "#verbose - 0 - не визуализировать ход обучения, 1 - визуализировать\n",
        "#validation_split - процент данных, на которых сеть не обучается, на которых мы измеряем точность распознавания\n",
        "model.fit(x_train, y_train, batch_size=128, epochs=30, verbose=1, validation_split=0.2)"
      ],
      "execution_count": 15,
      "outputs": [
        {
          "output_type": "stream",
          "text": [
            "Train on 48000 samples, validate on 12000 samples\n",
            "Epoch 1/30\n",
            "48000/48000 [==============================] - 3s 63us/sample - loss: 0.2308 - acc: 0.9301 - val_loss: 0.1120 - val_acc: 0.9647\n",
            "Epoch 2/30\n",
            "48000/48000 [==============================] - 1s 29us/sample - loss: 0.0823 - acc: 0.9752 - val_loss: 0.0913 - val_acc: 0.9718\n",
            "Epoch 3/30\n",
            "48000/48000 [==============================] - 1s 29us/sample - loss: 0.0521 - acc: 0.9832 - val_loss: 0.0826 - val_acc: 0.9762\n",
            "Epoch 4/30\n",
            "48000/48000 [==============================] - 1s 29us/sample - loss: 0.0363 - acc: 0.9885 - val_loss: 0.1131 - val_acc: 0.9662\n",
            "Epoch 5/30\n",
            "48000/48000 [==============================] - 1s 28us/sample - loss: 0.0285 - acc: 0.9906 - val_loss: 0.0768 - val_acc: 0.9784\n",
            "Epoch 6/30\n",
            "48000/48000 [==============================] - 1s 29us/sample - loss: 0.0167 - acc: 0.9947 - val_loss: 0.1070 - val_acc: 0.9726\n",
            "Epoch 7/30\n",
            "48000/48000 [==============================] - 1s 29us/sample - loss: 0.0178 - acc: 0.9939 - val_loss: 0.1016 - val_acc: 0.9748\n",
            "Epoch 8/30\n",
            "48000/48000 [==============================] - 1s 30us/sample - loss: 0.0155 - acc: 0.9949 - val_loss: 0.0962 - val_acc: 0.9772\n",
            "Epoch 9/30\n",
            "48000/48000 [==============================] - 1s 29us/sample - loss: 0.0152 - acc: 0.9946 - val_loss: 0.1340 - val_acc: 0.9713\n",
            "Epoch 10/30\n",
            "48000/48000 [==============================] - 1s 28us/sample - loss: 0.0154 - acc: 0.9948 - val_loss: 0.0940 - val_acc: 0.9794\n",
            "Epoch 11/30\n",
            "48000/48000 [==============================] - 1s 30us/sample - loss: 0.0101 - acc: 0.9966 - val_loss: 0.1074 - val_acc: 0.9789\n",
            "Epoch 12/30\n",
            "48000/48000 [==============================] - 1s 29us/sample - loss: 0.0115 - acc: 0.9966 - val_loss: 0.1031 - val_acc: 0.9799\n",
            "Epoch 13/30\n",
            "48000/48000 [==============================] - 1s 29us/sample - loss: 0.0092 - acc: 0.9972 - val_loss: 0.1167 - val_acc: 0.9779\n",
            "Epoch 14/30\n",
            "48000/48000 [==============================] - 1s 29us/sample - loss: 0.0087 - acc: 0.9973 - val_loss: 0.1149 - val_acc: 0.9794\n",
            "Epoch 15/30\n",
            "48000/48000 [==============================] - 1s 29us/sample - loss: 0.0118 - acc: 0.9962 - val_loss: 0.1239 - val_acc: 0.9754\n",
            "Epoch 16/30\n",
            "48000/48000 [==============================] - 1s 29us/sample - loss: 0.0088 - acc: 0.9971 - val_loss: 0.1231 - val_acc: 0.9788\n",
            "Epoch 17/30\n",
            "48000/48000 [==============================] - 1s 29us/sample - loss: 0.0080 - acc: 0.9976 - val_loss: 0.1166 - val_acc: 0.9794\n",
            "Epoch 18/30\n",
            "48000/48000 [==============================] - 1s 29us/sample - loss: 0.0082 - acc: 0.9972 - val_loss: 0.1176 - val_acc: 0.9793\n",
            "Epoch 19/30\n",
            "48000/48000 [==============================] - 1s 29us/sample - loss: 0.0081 - acc: 0.9975 - val_loss: 0.1248 - val_acc: 0.9785\n",
            "Epoch 20/30\n",
            "48000/48000 [==============================] - 1s 30us/sample - loss: 0.0061 - acc: 0.9979 - val_loss: 0.1288 - val_acc: 0.9792\n",
            "Epoch 21/30\n",
            "48000/48000 [==============================] - 1s 28us/sample - loss: 0.0112 - acc: 0.9966 - val_loss: 0.1123 - val_acc: 0.9787\n",
            "Epoch 22/30\n",
            "48000/48000 [==============================] - 1s 28us/sample - loss: 0.0053 - acc: 0.9983 - val_loss: 0.1075 - val_acc: 0.9815\n",
            "Epoch 23/30\n",
            "48000/48000 [==============================] - 1s 29us/sample - loss: 0.0052 - acc: 0.9983 - val_loss: 0.1178 - val_acc: 0.9802\n",
            "Epoch 24/30\n",
            "48000/48000 [==============================] - 1s 30us/sample - loss: 0.0047 - acc: 0.9986 - val_loss: 0.1319 - val_acc: 0.9798\n",
            "Epoch 25/30\n",
            "48000/48000 [==============================] - 1s 29us/sample - loss: 0.0109 - acc: 0.9966 - val_loss: 0.1380 - val_acc: 0.9783\n",
            "Epoch 26/30\n",
            "48000/48000 [==============================] - 1s 28us/sample - loss: 0.0072 - acc: 0.9978 - val_loss: 0.1214 - val_acc: 0.9800\n",
            "Epoch 27/30\n",
            "48000/48000 [==============================] - 1s 29us/sample - loss: 0.0032 - acc: 0.9990 - val_loss: 0.1219 - val_acc: 0.9806\n",
            "Epoch 28/30\n",
            "48000/48000 [==============================] - 1s 29us/sample - loss: 0.0039 - acc: 0.9988 - val_loss: 0.1453 - val_acc: 0.9773\n",
            "Epoch 29/30\n",
            "48000/48000 [==============================] - 1s 29us/sample - loss: 0.0086 - acc: 0.9972 - val_loss: 0.1615 - val_acc: 0.9768\n",
            "Epoch 30/30\n",
            "48000/48000 [==============================] - 1s 29us/sample - loss: 0.0088 - acc: 0.9974 - val_loss: 0.1340 - val_acc: 0.9801\n"
          ],
          "name": "stdout"
        },
        {
          "output_type": "execute_result",
          "data": {
            "text/plain": [
              "<tensorflow.python.keras.callbacks.History at 0x7f7a02838710>"
            ]
          },
          "metadata": {
            "tags": []
          },
          "execution_count": 15
        }
      ]
    },
    {
      "cell_type": "markdown",
      "metadata": {
        "id": "8OsyUFVULEkG",
        "colab_type": "text"
      },
      "source": [
        "## Сохраняем обученную нейронную сеть"
      ]
    },
    {
      "cell_type": "markdown",
      "metadata": {
        "id": "3H4ivOt5H2rm",
        "colab_type": "text"
      },
      "source": [
        "Записываем обученную нейронную сеть в файл `mnist_dense.h5`"
      ]
    },
    {
      "cell_type": "code",
      "metadata": {
        "id": "jCcYrRwfLYg-",
        "colab_type": "code",
        "colab": {}
      },
      "source": [
        "#Сохраняем нейронку в файл\n",
        "model.save(\"mnist_dense.h5\")\n"
      ],
      "execution_count": 0,
      "outputs": []
    },
    {
      "cell_type": "markdown",
      "metadata": {
        "id": "ulInadIzIBj_",
        "colab_type": "text"
      },
      "source": [
        "Проверяем, что файл сохранился"
      ]
    },
    {
      "cell_type": "code",
      "metadata": {
        "id": "DFOL85B1IEgO",
        "colab_type": "code",
        "outputId": "edc6ff51-2ba6-4b99-8b27-da4b2cf802fe",
        "colab": {
          "base_uri": "https://localhost:8080/",
          "height": 34
        }
      },
      "source": [
        "#Выводим на экран список текущих файлов\n",
        "!ls"
      ],
      "execution_count": 0,
      "outputs": [
        {
          "output_type": "stream",
          "text": [
            "mnist_dense.h5\tsample_data\n"
          ],
          "name": "stdout"
        }
      ]
    },
    {
      "cell_type": "markdown",
      "metadata": {
        "id": "52MAtyzWGKAC",
        "colab_type": "text"
      },
      "source": [
        "**Сохраняем файлы на локальный компьютер**"
      ]
    },
    {
      "cell_type": "code",
      "metadata": {
        "id": "0etc3S-PGOuy",
        "colab_type": "code",
        "colab": {}
      },
      "source": [
        "#Скачиваем файл локально на компьютер\n",
        "files.download(\"mnist_dense.h5\")"
      ],
      "execution_count": 0,
      "outputs": []
    },
    {
      "cell_type": "markdown",
      "metadata": {
        "id": "pR_nstTJIRTc",
        "colab_type": "text"
      },
      "source": [
        "Если хотите использовать обученную нейронную сеть на своем компьютере:\n",
        "\n",
        "```\n",
        "from keras.models import load_model\n",
        "model = load_model('mnist_dense.h5')\n",
        "```"
      ]
    },
    {
      "cell_type": "markdown",
      "metadata": {
        "id": "7vMx5V5QMYlW",
        "colab_type": "text"
      },
      "source": [
        "## Используем сеть для распознавания рукописных цифр"
      ]
    },
    {
      "cell_type": "code",
      "metadata": {
        "id": "-AGygAcPMd0G",
        "colab_type": "code",
        "colab": {}
      },
      "source": [
        "#Номер тестовой цифры, которую будем распознавать\n",
        "n_rec = 2021"
      ],
      "execution_count": 0,
      "outputs": []
    },
    {
      "cell_type": "code",
      "metadata": {
        "id": "TT4Ofqx1WTCq",
        "colab_type": "code",
        "outputId": "8b6da52d-fa5c-4d3f-8857-3eb6d554819e",
        "colab": {
          "base_uri": "https://localhost:8080/",
          "height": 265
        }
      },
      "source": [
        "plt.imshow(Image.fromarray(x_test_org[n_rec]).convert('RGBA'))\n",
        "plt.show()"
      ],
      "execution_count": 0,
      "outputs": [
        {
          "output_type": "display_data",
          "data": {
            "image/png": "[encoded data removed]",
            "text/plain": [
              "<Figure size 432x288 with 1 Axes>"
            ]
          },
          "metadata": {
            "tags": []
          }
        }
      ]
    },
    {
      "cell_type": "markdown",
      "metadata": {
        "id": "Lnft8V55M0Rc",
        "colab_type": "text"
      },
      "source": [
        "**Меняем размерность изображения и нормализуем его**"
      ]
    },
    {
      "cell_type": "code",
      "metadata": {
        "id": "UKFWqSHtM7Nf",
        "colab_type": "code",
        "colab": {}
      },
      "source": [
        "#Выбираем нужную картинку из тестовой выборки\n",
        "x = x_test[n_rec]\n",
        "#Добавляем одну размерность в конце, чтобы нейронка могла распознать пример\n",
        "#Потому что нейронка принимает именно массов примеров для распознавания\n",
        "#Мы делаем массив из одного примеры\n",
        "x = np.expand_dims(x, axis=0)"
      ],
      "execution_count": 0,
      "outputs": []
    },
    {
      "cell_type": "markdown",
      "metadata": {
        "id": "bMruIcf2NHlN",
        "colab_type": "text"
      },
      "source": [
        "**Запускаем распознавание**"
      ]
    },
    {
      "cell_type": "code",
      "metadata": {
        "id": "Ap72-9_kNKU2",
        "colab_type": "code",
        "colab": {}
      },
      "source": [
        "#Распознаём ннаш пример\n",
        "prediction = model.predict(x)"
      ],
      "execution_count": 0,
      "outputs": []
    },
    {
      "cell_type": "markdown",
      "metadata": {
        "id": "2Gldpmn2NQ6-",
        "colab_type": "text"
      },
      "source": [
        "**Печатаем результаты распознавания**"
      ]
    },
    {
      "cell_type": "code",
      "metadata": {
        "id": "P7opRiSZNUku",
        "colab_type": "code",
        "outputId": "d98dfb3e-a6d9-44c7-e985-bc3ceef6f21f",
        "colab": {
          "base_uri": "https://localhost:8080/",
          "height": 51
        }
      },
      "source": [
        "#Выводим результат, это 10 цифр\n",
        "#Сумма значений равна 1, так как финальный слой с активационной функций softmax\n",
        "print(prediction)"
      ],
      "execution_count": 0,
      "outputs": [
        {
          "output_type": "stream",
          "text": [
            "[[8.3124561e-24 2.3543231e-25 2.5590094e-24 1.0663971e-14 5.4692244e-26\n",
            "  1.0000000e+00 6.4199449e-22 1.3458565e-24 8.2802129e-15 1.5549487e-11]]\n"
          ],
          "name": "stdout"
        }
      ]
    },
    {
      "cell_type": "markdown",
      "metadata": {
        "id": "LQTiyEM3NfRG",
        "colab_type": "text"
      },
      "source": [
        "**Преобразуем результаты из формата one hot encoding**"
      ]
    },
    {
      "cell_type": "code",
      "metadata": {
        "id": "XVC_dTGqNohG",
        "colab_type": "code",
        "outputId": "56802acd-b605-4fea-f86f-a03618e347dd",
        "colab": {
          "base_uri": "https://localhost:8080/",
          "height": 34
        }
      },
      "source": [
        "#Получаем индекс самого большого элемента\n",
        "#Это итоговая цифра, которую распознала сеть\n",
        "prediction = np.argmax(prediction)\n",
        "print(prediction)"
      ],
      "execution_count": 0,
      "outputs": [
        {
          "output_type": "stream",
          "text": [
            "5\n"
          ],
          "name": "stdout"
        }
      ]
    },
    {
      "cell_type": "markdown",
      "metadata": {
        "id": "zJy8tKjuNyD2",
        "colab_type": "text"
      },
      "source": [
        "**Печатаем правильный ответ**"
      ]
    },
    {
      "cell_type": "code",
      "metadata": {
        "id": "0zoGlCZWN2Id",
        "colab_type": "code",
        "outputId": "72944daa-57a8-4486-cfe0-2ce3dd8f1ddb",
        "colab": {
          "base_uri": "https://localhost:8080/",
          "height": 34
        }
      },
      "source": [
        "#выводим правильный ответ, для сравнения\n",
        "print(y_test_org[n_rec])"
      ],
      "execution_count": 0,
      "outputs": [
        {
          "output_type": "stream",
          "text": [
            "5\n"
          ],
          "name": "stdout"
        }
      ]
    },
    {
      "cell_type": "markdown",
      "metadata": {
        "id": "uFyI8beELi39",
        "colab_type": "text"
      },
      "source": [
        "## Загружаем свою картинку"
      ]
    },
    {
      "cell_type": "code",
      "metadata": {
        "id": "Pbsw3N30LnT2",
        "colab_type": "code",
        "outputId": "54ee2cd3-2b6f-4f67-9a03-1693fa53987a",
        "colab": {
          "resources": {
            "http://localhost:8080/nbextensions/google.colab/files.js": {
              "data": "Ly8gQ29weXJpZ2h0IDIwMTcgR29vZ2xlIExMQwovLwovLyBMaWNlbnNlZCB1bmRlciB0aGUgQXBhY2hlIExpY2Vuc2UsIFZlcnNpb24gMi4wICh0aGUgIkxpY2Vuc2UiKTsKLy8geW91IG1heSBub3QgdXNlIHRoaXMgZmlsZSBleGNlcHQgaW4gY29tcGxpYW5jZSB3aXRoIHRoZSBMaWNlbnNlLgovLyBZb3UgbWF5IG9idGFpbiBhIGNvcHkgb2YgdGhlIExpY2Vuc2UgYXQKLy8KLy8gICAgICBodHRwOi8vd3d3LmFwYWNoZS5vcmcvbGljZW5zZXMvTElDRU5TRS0yLjAKLy8KLy8gVW5sZXNzIHJlcXVpcmVkIGJ5IGFwcGxpY2FibGUgbGF3IG9yIGFncmVlZCB0byBpbiB3cml0aW5nLCBzb2Z0d2FyZQovLyBkaXN0cmlidXRlZCB1bmRlciB0aGUgTGljZW5zZSBpcyBkaXN0cmlidXRlZCBvbiBhbiAiQVMgSVMiIEJBU0lTLAovLyBXSVRIT1VUIFdBUlJBTlRJRVMgT1IgQ09ORElUSU9OUyBPRiBBTlkgS0lORCwgZWl0aGVyIGV4cHJlc3Mgb3IgaW1wbGllZC4KLy8gU2VlIHRoZSBMaWNlbnNlIGZvciB0aGUgc3BlY2lmaWMgbGFuZ3VhZ2UgZ292ZXJuaW5nIHBlcm1pc3Npb25zIGFuZAovLyBsaW1pdGF0aW9ucyB1bmRlciB0aGUgTGljZW5zZS4KCi8qKgogKiBAZmlsZW92ZXJ2aWV3IEhlbHBlcnMgZm9yIGdvb2dsZS5jb2xhYiBQeXRob24gbW9kdWxlLgogKi8KKGZ1bmN0aW9uKHNjb3BlKSB7CmZ1bmN0aW9uIHNwYW4odGV4dCwgc3R5bGVBdHRyaWJ1dGVzID0ge30pIHsKICBjb25zdCBlbGVtZW50ID0gZG9jdW1lbnQuY3JlYXRlRWxlbWVudCgnc3BhbicpOwogIGVsZW1lbnQudGV4dENvbnRlbnQgPSB0ZXh0OwogIGZvciAoY29uc3Qga2V5IG9mIE9iamVjdC5rZXlzKHN0eWxlQXR0cmlidXRlcykpIHsKICAgIGVsZW1lbnQuc3R5bGVba2V5XSA9IHN0eWxlQXR0cmlidXRlc1trZXldOwogIH0KICByZXR1cm4gZWxlbWVudDsKfQoKLy8gTWF4IG51bWJlciBvZiBieXRlcyB3aGljaCB3aWxsIGJlIHVwbG9hZGVkIGF0IGEgdGltZS4KY29uc3QgTUFYX1BBWUxPQURfU0laRSA9IDEwMCAqIDEwMjQ7Ci8vIE1heCBhbW91bnQgb2YgdGltZSB0byBibG9jayB3YWl0aW5nIGZvciB0aGUgdXNlci4KY29uc3QgRklMRV9DSEFOR0VfVElNRU9VVF9NUyA9IDMwICogMTAwMDsKCmZ1bmN0aW9uIF91cGxvYWRGaWxlcyhpbnB1dElkLCBvdXRwdXRJZCkgewogIGNvbnN0IHN0ZXBzID0gdXBsb2FkRmlsZXNTdGVwKGlucHV0SWQsIG91dHB1dElkKTsKICBjb25zdCBvdXRwdXRFbGVtZW50ID0gZG9jdW1lbnQuZ2V0RWxlbWVudEJ5SWQob3V0cHV0SWQpOwogIC8vIENhY2hlIHN0ZXBzIG9uIHRoZSBvdXRwdXRFbGVtZW50IHRvIG1ha2UgaXQgYXZhaWxhYmxlIGZvciB0aGUgbmV4dCBjYWxsCiAgLy8gdG8gdXBsb2FkRmlsZXNDb250aW51ZSBmcm9tIFB5dGhvbi4KICBvdXRwdXRFbGVtZW50LnN0ZXBzID0gc3RlcHM7CgogIHJldHVybiBfdXBsb2FkRmlsZXNDb250aW51ZShvdXRwdXRJZCk7Cn0KCi8vIFRoaXMgaXMgcm91Z2hseSBhbiBhc3luYyBnZW5lcmF0b3IgKG5vdCBzdXBwb3J0ZWQgaW4gdGhlIGJyb3dzZXIgeWV0KSwKLy8gd2hlcmUgdGhlcmUgYXJlIG11bHRpcGxlIGFzeW5jaHJvbm91cyBzdGVwcyBhbmQgdGhlIFB5dGhvbiBzaWRlIGlzIGdvaW5nCi8vIHRvIHBvbGwgZm9yIGNvbXBsZXRpb24gb2YgZWFjaCBzdGVwLgovLyBUaGlzIHVzZXMgYSBQcm9taXNlIHRvIGJsb2NrIHRoZSBweXRob24gc2lkZSBvbiBjb21wbGV0aW9uIG9mIGVhY2ggc3RlcCwKLy8gdGhlbiBwYXNzZXMgdGhlIHJlc3VsdCBvZiB0aGUgcHJldmlvdXMgc3RlcCBhcyB0aGUgaW5wdXQgdG8gdGhlIG5leHQgc3RlcC4KZnVuY3Rpb24gX3VwbG9hZEZpbGVzQ29udGludWUob3V0cHV0SWQpIHsKICBjb25zdCBvdXRwdXRFbGVtZW50ID0gZG9jdW1lbnQuZ2V0RWxlbWVudEJ5SWQob3V0cHV0SWQpOwogIGNvbnN0IHN0ZXBzID0gb3V0cHV0RWxlbWVudC5zdGVwczsKCiAgY29uc3QgbmV4dCA9IHN0ZXBzLm5leHQob3V0cHV0RWxlbWVudC5sYXN0UHJvbWlzZVZhbHVlKTsKICByZXR1cm4gUHJvbWlzZS5yZXNvbHZlKG5leHQudmFsdWUucHJvbWlzZSkudGhlbigodmFsdWUpID0+IHsKICAgIC8vIENhY2hlIHRoZSBsYXN0IHByb21pc2UgdmFsdWUgdG8gbWFrZSBpdCBhdmFpbGFibGUgdG8gdGhlIG5leHQKICAgIC8vIHN0ZXAgb2YgdGhlIGdlbmVyYXRvci4KICAgIG91dHB1dEVsZW1lbnQubGFzdFByb21pc2VWYWx1ZSA9IHZhbHVlOwogICAgcmV0dXJuIG5leHQudmFsdWUucmVzcG9uc2U7CiAgfSk7Cn0KCi8qKgogKiBHZW5lcmF0b3IgZnVuY3Rpb24gd2hpY2ggaXMgY2FsbGVkIGJldHdlZW4gZWFjaCBhc3luYyBzdGVwIG9mIHRoZSB1cGxvYWQKICogcHJvY2Vzcy4KICogQHBhcmFtIHtzdHJpbmd9IGlucHV0SWQgRWxlbWVudCBJRCBvZiB0aGUgaW5wdXQgZmlsZSBwaWNrZXIgZWxlbWVudC4KICogQHBhcmFtIHtzdHJpbmd9IG91dHB1dElkIEVsZW1lbnQgSUQgb2YgdGhlIG91dHB1dCBkaXNwbGF5LgogKiBAcmV0dXJuIHshSXRlcmFibGU8IU9iamVjdD59IEl0ZXJhYmxlIG9mIG5leHQgc3RlcHMuCiAqLwpmdW5jdGlvbiogdXBsb2FkRmlsZXNTdGVwKGlucHV0SWQsIG91dHB1dElkKSB7CiAgY29uc3QgaW5wdXRFbGVtZW50ID0gZG9jdW1lbnQuZ2V0RWxlbWVudEJ5SWQoaW5wdXRJZCk7CiAgaW5wdXRFbGVtZW50LmRpc2FibGVkID0gZmFsc2U7CgogIGNvbnN0IG91dHB1dEVsZW1lbnQgPSBkb2N1bWVudC5nZXRFbGVtZW50QnlJZChvdXRwdXRJZCk7CiAgb3V0cHV0RWxlbWVudC5pbm5lckhUTUwgPSAnJzsKCiAgY29uc3QgcGlja2VkUHJvbWlzZSA9IG5ldyBQcm9taXNlKChyZXNvbHZlKSA9PiB7CiAgICBpbnB1dEVsZW1lbnQuYWRkRXZlbnRMaXN0ZW5lcignY2hhbmdlJywgKGUpID0+IHsKICAgICAgcmVzb2x2ZShlLnRhcmdldC5maWxlcyk7CiAgICB9KTsKICB9KTsKCiAgY29uc3QgY2FuY2VsID0gZG9jdW1lbnQuY3JlYXRlRWxlbWVudCgnYnV0dG9uJyk7CiAgaW5wdXRFbGVtZW50LnBhcmVudEVsZW1lbnQuYXBwZW5kQ2hpbGQoY2FuY2VsKTsKICBjYW5jZWwudGV4dENvbnRlbnQgPSAnQ2FuY2VsIHVwbG9hZCc7CiAgY29uc3QgY2FuY2VsUHJvbWlzZSA9IG5ldyBQcm9taXNlKChyZXNvbHZlKSA9PiB7CiAgICBjYW5jZWwub25jbGljayA9ICgpID0+IHsKICAgICAgcmVzb2x2ZShudWxsKTsKICAgIH07CiAgfSk7CgogIC8vIENhbmNlbCB1cGxvYWQgaWYgdXNlciBoYXNuJ3QgcGlja2VkIGFueXRoaW5nIGluIHRpbWVvdXQuCiAgY29uc3QgdGltZW91dFByb21pc2UgPSBuZXcgUHJvbWlzZSgocmVzb2x2ZSkgPT4gewogICAgc2V0VGltZW91dCgoKSA9PiB7CiAgICAgIHJlc29sdmUobnVsbCk7CiAgICB9LCBGSUxFX0NIQU5HRV9USU1FT1VUX01TKTsKICB9KTsKCiAgLy8gV2FpdCBmb3IgdGhlIHVzZXIgdG8gcGljayB0aGUgZmlsZXMuCiAgY29uc3QgZmlsZXMgPSB5aWVsZCB7CiAgICBwcm9taXNlOiBQcm9taXNlLnJhY2UoW3BpY2tlZFByb21pc2UsIHRpbWVvdXRQcm9taXNlLCBjYW5jZWxQcm9taXNlXSksCiAgICByZXNwb25zZTogewogICAgICBhY3Rpb246ICdzdGFydGluZycsCiAgICB9CiAgfTsKCiAgaWYgKCFmaWxlcykgewogICAgcmV0dXJuIHsKICAgICAgcmVzcG9uc2U6IHsKICAgICAgICBhY3Rpb246ICdjb21wbGV0ZScsCiAgICAgIH0KICAgIH07CiAgfQoKICBjYW5jZWwucmVtb3ZlKCk7CgogIC8vIERpc2FibGUgdGhlIGlucHV0IGVsZW1lbnQgc2luY2UgZnVydGhlciBwaWNrcyBhcmUgbm90IGFsbG93ZWQuCiAgaW5wdXRFbGVtZW50LmRpc2FibGVkID0gdHJ1ZTsKCiAgZm9yIChjb25zdCBmaWxlIG9mIGZpbGVzKSB7CiAgICBjb25zdCBsaSA9IGRvY3VtZW50LmNyZWF0ZUVsZW1lbnQoJ2xpJyk7CiAgICBsaS5hcHBlbmQoc3BhbihmaWxlLm5hbWUsIHtmb250V2VpZ2h0OiAnYm9sZCd9KSk7CiAgICBsaS5hcHBlbmQoc3BhbigKICAgICAgICBgKCR7ZmlsZS50eXBlIHx8ICduL2EnfSkgLSAke2ZpbGUuc2l6ZX0gYnl0ZXMsIGAgKwogICAgICAgIGBsYXN0IG1vZGlmaWVkOiAkewogICAgICAgICAgICBmaWxlLmxhc3RNb2RpZmllZERhdGUgPyBmaWxlLmxhc3RNb2RpZmllZERhdGUudG9Mb2NhbGVEYXRlU3RyaW5nKCkgOgogICAgICAgICAgICAgICAgICAgICAgICAgICAgICAgICAgICAnbi9hJ30gLSBgKSk7CiAgICBjb25zdCBwZXJjZW50ID0gc3BhbignMCUgZG9uZScpOwogICAgbGkuYXBwZW5kQ2hpbGQocGVyY2VudCk7CgogICAgb3V0cHV0RWxlbWVudC5hcHBlbmRDaGlsZChsaSk7CgogICAgY29uc3QgZmlsZURhdGFQcm9taXNlID0gbmV3IFByb21pc2UoKHJlc29sdmUpID0+IHsKICAgICAgY29uc3QgcmVhZGVyID0gbmV3IEZpbGVSZWFkZXIoKTsKICAgICAgcmVhZGVyLm9ubG9hZCA9IChlKSA9PiB7CiAgICAgICAgcmVzb2x2ZShlLnRhcmdldC5yZXN1bHQpOwogICAgICB9OwogICAgICByZWFkZXIucmVhZEFzQXJyYXlCdWZmZXIoZmlsZSk7CiAgICB9KTsKICAgIC8vIFdhaXQgZm9yIHRoZSBkYXRhIHRvIGJlIHJlYWR5LgogICAgbGV0IGZpbGVEYXRhID0geWllbGQgewogICAgICBwcm9taXNlOiBmaWxlRGF0YVByb21pc2UsCiAgICAgIHJlc3BvbnNlOiB7CiAgICAgICAgYWN0aW9uOiAnY29udGludWUnLAogICAgICB9CiAgICB9OwoKICAgIC8vIFVzZSBhIGNodW5rZWQgc2VuZGluZyB0byBhdm9pZCBtZXNzYWdlIHNpemUgbGltaXRzLiBTZWUgYi82MjExNTY2MC4KICAgIGxldCBwb3NpdGlvbiA9IDA7CiAgICB3aGlsZSAocG9zaXRpb24gPCBmaWxlRGF0YS5ieXRlTGVuZ3RoKSB7CiAgICAgIGNvbnN0IGxlbmd0aCA9IE1hdGgubWluKGZpbGVEYXRhLmJ5dGVMZW5ndGggLSBwb3NpdGlvbiwgTUFYX1BBWUxPQURfU0laRSk7CiAgICAgIGNvbnN0IGNodW5rID0gbmV3IFVpbnQ4QXJyYXkoZmlsZURhdGEsIHBvc2l0aW9uLCBsZW5ndGgpOwogICAgICBwb3NpdGlvbiArPSBsZW5ndGg7CgogICAgICBjb25zdCBiYXNlNjQgPSBidG9hKFN0cmluZy5mcm9tQ2hhckNvZGUuYXBwbHkobnVsbCwgY2h1bmspKTsKICAgICAgeWllbGQgewogICAgICAgIHJlc3BvbnNlOiB7CiAgICAgICAgICBhY3Rpb246ICdhcHBlbmQnLAogICAgICAgICAgZmlsZTogZmlsZS5uYW1lLAogICAgICAgICAgZGF0YTogYmFzZTY0LAogICAgICAgIH0sCiAgICAgIH07CiAgICAgIHBlcmNlbnQudGV4dENvbnRlbnQgPQogICAgICAgICAgYCR7TWF0aC5yb3VuZCgocG9zaXRpb24gLyBmaWxlRGF0YS5ieXRlTGVuZ3RoKSAqIDEwMCl9JSBkb25lYDsKICAgIH0KICB9CgogIC8vIEFsbCBkb25lLgogIHlpZWxkIHsKICAgIHJlc3BvbnNlOiB7CiAgICAgIGFjdGlvbjogJ2NvbXBsZXRlJywKICAgIH0KICB9Owp9CgpzY29wZS5nb29nbGUgPSBzY29wZS5nb29nbGUgfHwge307CnNjb3BlLmdvb2dsZS5jb2xhYiA9IHNjb3BlLmdvb2dsZS5jb2xhYiB8fCB7fTsKc2NvcGUuZ29vZ2xlLmNvbGFiLl9maWxlcyA9IHsKICBfdXBsb2FkRmlsZXMsCiAgX3VwbG9hZEZpbGVzQ29udGludWUsCn07Cn0pKHNlbGYpOwo=",
              "ok": true,
              "headers": [
                [
                  "content-type",
                  "application/javascript"
                ]
              ],
              "status": 200,
              "status_text": ""
            }
          },
          "base_uri": "https://localhost:8080/",
          "height": 112
        }
      },
      "source": [
        "#Загружаем файл со своей рукописной цифрой\n",
        "files.upload()"
      ],
      "execution_count": 0,
      "outputs": [
        {
          "output_type": "display_data",
          "data": {
            "text/html": [
              "\n",
              "     <input type=\"file\" id=\"files-1b8ced50-b6fc-4aa6-b630-0b355f63c63c\" name=\"files[]\" multiple disabled />\n",
              "     <output id=\"result-1b8ced50-b6fc-4aa6-b630-0b355f63c63c\">\n",
              "      Upload widget is only available when the cell has been executed in the\n",
              "      current browser session. Please rerun this cell to enable.\n",
              "      </output>\n",
              "      <script src=\"/nbextensions/google.colab/files.js\"></script> "
            ],
            "text/plain": [
              "<IPython.core.display.HTML object>"
            ]
          },
          "metadata": {
            "tags": []
          }
        },
        {
          "output_type": "stream",
          "text": [
            "Saving Digit_2.png to Digit_2.png\n"
          ],
          "name": "stdout"
        },
        {
          "output_type": "execute_result",
          "data": {
            "text/plain": [
              "{'Digit_2.png': b'\\x89PNG\\r\\n\\x1a\\n\\x00\\x00\\x00\\rIHDR\\x00\\x00\\x01\\x9c\\x00\\x00\\x01\\x9c\\x08\\x06\\x00\\x00\\x00\\xedA\\x169\\x00\\x00\\x0cLiCCPICC Profile\\x00\\x00H\\x89\\x95W\\x07\\\\\\x93G\\x1b\\xbfwd\\x92\\xb0\\x02\\x11\\x90\\x11\\xf6\\x12E\\x10\\x08 #\\x84\\x15A@\\xa6 *!\\t$\\x8c\\x18\\x13\\x82\\x8a\\x1b)U\\xb0\\x0eTDA\\xadhUD\\xd1:\\x00\\xa9\\x13\\xf7(\\x8a\\xdb:\\x8a\\x03\\x95J-Vq\\xa1\\xf2]\\x06h\\xf5\\x1b\\xbf\\xef\\xc9\\xef\\xde\\xf7\\x9f\\xe7\\x9e\\xfb?#w\\x97;\\x00\\xf4j\\xf82Y\\x1e\\xaa\\x0f@\\xbe\\xb4@\\x1e\\x1f\\x11\\xc2\\x1a\\x9f\\x9a\\xc6\"=\\x02(\\xfc\\xe8\\x02g`\\xc4\\x17(d\\x9c\\xb8\\xb8h\\x00e\\xe0\\xfdOy}\\x1d \\xaa\\xf7\\x157\\x15\\xd7\\xb7\\xfd\\xffU\\x0c\\x84\"\\x85\\x00\\x00$\\x0e\\xe2L\\xa1B\\x90\\x0f\\xf1>\\x00\\xf0b\\x81L^\\x00\\x00\\x91\\r\\xf5\\xb6\\xd3\\nd*\\x9c\\x0e\\xb1\\x91\\x1c\\x06\\x08\\xb1L\\x85\\xb35\\xb8D\\x8535\\xb8Jm\\x93\\x18\\xcf\\x85x\\x07\\x00d\\x1a\\x9f/\\xcf\\x06@\\xb7\\x19\\xeaY\\x85\\x82l\\xc8\\xa3{\\x13bw\\xa9P\"\\x05@\\x8f\\x0cq\\xa0@\\xcc\\x17B\\x1c\\t\\xf1\\xb0\\xfc\\xfc)*\\x0c\\xed\\x80S\\xe6\\x17<\\xd9\\xff\\xe0\\xcc\\x1c\\xe4\\xe4\\xf3\\xb3\\x07\\xb1&\\x17\\xb5\\x90C%\\nY\\x1e\\x7f\\xc6\\xffY\\x8e\\xff-\\xf9y\\xca\\x01\\x1f\\x0e\\xb0\\xd1\\xc4\\xf2\\xc8xU\\xce\\xb0n7s\\xa7D\\xa90\\r\\xe2nifL,\\xc4\\x86\\x10\\xbf\\x95\\x08\\xd5\\xf6\\x10\\xa3T\\xb122Ic\\x8f\\x9a\\x0b\\x14\\\\X3\\xc0\\x84\\xd8]\\xc8\\x0f\\x8d\\x82\\xd8\\x1c\\xe2pi^L\\xb4V\\x9f\\x99%\\t\\xe7A\\x0cg\\x08:]R\\xc0K\\xd4\\x8e](R\\x84%h9k\\xe4S\\xe2c\\x07p\\x96\\x9c\\xcb\\xd1\\x8em\\xe0\\xcb\\xd5~U\\xf6\\'\\x94\\xb9I\\x1c-\\xffM\\xb1\\x887\\xc0\\xff\\xaaH\\x9c\\x98\\x021\\x15\\x00\\x8cZ(I\\x8e\\x81X\\x17b#EnB\\x94\\xc6\\x06\\xb3)\\x12sc\\x06l\\xe4\\xcaxU\\xfcv\\x10\\xb3E\\xd2\\x88\\x10\\r?\\x96\\x9e%\\x0f\\x8f\\xd7\\xda\\xcb\\xf2\\x15\\x03\\xf9b\\xa5b\\t/F\\x8b\\xab\\n\\xc4\\x89\\x91\\x9a\\xfa`\\xdb\\x05|u\\xfc&\\x107\\x8a\\xa4\\x9c\\xa4\\x01\\x1e\\x91b|\\xf4@.BQh\\x98&w\\xacM$M\\xd2\\xe6\\x8b\\xdd\\x93\\x15\\x84\\xc4k\\xc7\\xf6\\xc8\\xf2\\xe2\\xb4\\xf68Y\\x94\\x17\\xa1\\xd2\\xdb@l\\xa6(L\\xd0\\x8e\\xc5G\\x17\\xc0\\t\\xa9\\xe1\\xc7\\xa3e\\x05q\\x89\\x9a8\\xf1\\x8c\\x1c\\xfe\\x988M<x!\\x88\\x06\\\\\\x10\\nX@\\t[&\\x98\\x02r\\x80\\xa4\\xad\\xbb\\xa9\\x1b~\\xd3\\xf4\\x84\\x03>\\x90\\x83l \\x02nZ\\xcd\\xc0\\x88\\x14u\\x8f\\x14>\\x13@\\x11\\xf8\\x13\"\\x11P\\x0c\\x8e\\x0bQ\\xf7\\x8a@!\\xd4\\x7f\\x1c\\xd4j\\x9en K\\xdd[\\xa8\\x1e\\x91\\x0b\\x1eC\\x9c\\x0f\\xa2@\\x1e\\xfc\\xaeT\\x8f\\x92\\x0ezK\\x06\\x8f\\xa0F\\xf2\\x8dw\\x01\\x8c5\\x0f6U\\xdf\\xb7:\\x0e\\xd4Dk5\\xca\\x01^\\x96\\xde\\x80%1\\x8c\\x18J\\x8c$\\x86\\x13\\x9dq3<\\x10\\xf7\\xc7\\xa3\\xe13\\x186\\x0f\\x9c\\x8d\\xfb\\x0eD\\xfb\\xd9\\x9e\\xf0\\x98\\xd0Nx@\\xb8F\\xe8 \\xdc\\x9a,)\\x96\\x7f\\x15\\xcbX\\xd0\\x01\\xf9\\xc3\\xb5\\x19g~\\x991\\xee\\x009\\xbd\\xf0\\x10<\\x00\\xb2Cf\\x9c\\x89\\x9b\\x017|\\x14\\xf4\\xc3\\xc1\\x83\\xa0g/\\xa8\\xe5j\\xe3V\\xe5\\xce\\xfa7y\\x0ef\\xf0E\\xcd\\xb5v\\x14w\\nJ\\x19B\\t\\xa68}=R\\xd7E\\xd7k\\x90EU\\xd1/\\xeb\\xa3\\x895s\\xb0\\xaa\\xdc\\xc1\\x9e\\xaf\\xfds\\xbf\\xa8\\xb3\\x10\\xbe\\xa3\\xbe\\xb6\\xc4\\x16b{\\xb1\\xd3\\xd81\\xec,v\\x10k\\x02,\\xec\\x08\\xd6\\x8c]\\xc0\\x0e\\xa9\\xf0\\xe0\\x1cz\\xa4\\x9eC\\x03\\xde\\xe2\\xd5\\xf1\\xe4B\\x1e\\xc97\\xfe\\xf8Z\\x9f\\xaaJ*\\xdc\\xeb\\xdd\\xbb\\xdc?h\\xfb@\\x81h\\xbaj\\x7f\\x04\\xdc)\\xb2\\x19rI\\xb6\\xb8\\x80\\xc5\\x81;\\xbf\\x88\\xc5\\x93\\n\\x86\\x0fcy\\xb8{\\xb8\\x03\\xa0\\xfa\\x1f\\xd1lS/\\x99\\xea\\xff\\x07\\x84y\\xee\\xb3n\\x01\\\\\\xcb\\x01\\xd2\\xfe\\xfe\\xfe\\x83\\x9fuQ\\xef\\x01\\xd8g\\r\\x97y\\xc7g\\x9d\\xe3e\\xb8\\x1d\\xc0\\xbd\\xfe\\xccr\\x81R^\\xa8\\xd1\\xe1\\xaa\\x07\\x01\\xee\\x06zpE\\x99\\x02K`\\x0b\\x9c`F\\x1e\\xc0\\x1b\\xf8\\x83`\\x10\\x06\\xc6\\x80X\\x90\\x08R\\xc1$Xg1\\x9c\\xcfr0\\r\\xcc\\x02\\xf3A)(\\x07\\xcb\\xc0*\\xb0\\x16l\\x00\\x9b\\xc06\\xb0\\x13\\xec\\x01M\\xe0 8\\x06N\\x81\\xf3\\xe0\\x12\\xb8\\x06n\\xc3\\xf9\\xd3\\t\\x9e\\x81\\x1e\\xf0\\x1a\\xf4!\\x08BB\\xe8\\x08\\x031E\\xac\\x10{\\xc4\\x15\\xf1@\\xd8H \\x12\\x86D#\\xf1H*\\x92\\x81d#RD\\x89\\xccB\\x16 \\xe5H\\x05\\xb2\\x16\\xd9\\x88\\xd4!?#\\x07\\x90c\\xc8Y\\xa4\\x1d\\xb9\\x85\\xdcG\\xba\\x90\\xbf\\x91\\xf7(\\x86\\xd2P#\\xd4\\x02u@G\\xa0l\\x94\\x83F\\xa1\\x89\\xe8D4\\x1b\\x9d\\x8a\\x16\\xa1%\\xe8\\x12\\xb4\\n\\xadEw\\xa0\\x8d\\xe81\\xf4<z\\r\\xed@\\x9f\\xa1\\xbd\\x18\\xc0t0&f\\x8d\\xb9al\\x8c\\x8b\\xc5biX\\x16&\\xc7\\xe6`eX%V\\x8b5`-\\xf0\\x97\\xbe\\x82u`\\xdd\\xd8;\\x9c\\x883p\\x16\\xee\\x06\\xe7p$\\x9e\\x84\\x0b\\xf0\\xa9\\xf8\\x1c|1\\xbe\\x16\\xdf\\x867\\xe2\\'\\xf0+\\xf8}\\xbc\\x07\\xffD\\xa0\\x13\\xcc\\t\\xae\\x04?\\x02\\x8f0\\x9e\\x90M\\x98F(%T\\x12\\xb6\\x10\\xf6\\x13N\\xc2\\xd5\\xd4IxM$\\x12\\x99DG\\xa2\\x0f\\\\\\x8d\\xa9\\xc4\\x1c\\xe2L\\xe2b\\xe2:\\xe2.\\xe2Qb;\\xf1!\\xb1\\x97D\"\\x99\\x92\\\\I\\x01\\xa4X\\x12\\x9fT@*%\\xad!\\xed \\x1d!]&u\\x92\\xde\\x92u\\xc8Vd\\x0fr89\\x8d,%\\x17\\x93+\\xc9\\xdb\\xc9\\x87\\xc9\\x97\\xc9O\\xc8}\\x14}\\x8a=\\xc5\\x8f\\x12K\\x11RfP\\x96R6SZ(\\x17)\\x9d\\x94>\\xaa\\x01\\xd5\\x91\\x1a@M\\xa4\\xe6P\\xe7S\\xab\\xa8\\r\\xd4\\x93\\xd4;\\xd4\\x97:::6:\\xbe:\\xe3t$:\\xf3t\\xaatv\\xeb\\x9c\\xd1\\xb9\\xaf\\xf3\\x8efHs\\xa1qi\\xe94%m\\tm+\\xed(\\xed\\x16\\xed%\\x9dNw\\xa0\\x07\\xd3\\xd3\\xe8\\x05\\xf4%\\xf4:\\xfaq\\xfa=\\xfa[]\\x86\\xeep]\\x9e\\xaePw\\xaen\\xb5n\\xa3\\xeee\\xdd\\xe7z\\x14={=\\x8e\\xde$\\xbd\"\\xbdJ\\xbd\\xbdz\\x17\\xf5\\xba\\xf5)\\xfa\\x0e\\xfa\\\\}\\xbe\\xfe\\x1c\\xfdj\\xfd\\x03\\xfa7\\xf4{\\r\\x18\\x06#\\rb\\r\\xf2\\r\\x16\\x1bl78k\\xf0\\xd4\\x90d\\xe8`\\x18f(4,1\\xdcdx\\xdc\\xf0!\\x03c\\xd82\\xb8\\x0c\\x01c\\x01c3\\xe3$\\xa3\\xd3\\x88h\\xe4h\\xc43\\xca1*7\\xdai\\xd4f\\xd4clh<\\xca8\\xd9x\\xbaq\\xb5\\xf1!\\xe3\\x0e&\\xc6t`\\xf2\\x98y\\xcc\\xa5\\xcc=\\xcc\\xeb\\xcc\\xf7C,\\x86p\\x86\\x88\\x86,\\x1a\\xd20\\xe4\\xf2\\x907&CM\\x82MD&e&\\xbbL\\xae\\x99\\xbc7e\\x99\\x86\\x99\\xe6\\x9a.7m2\\xbdk\\x86\\x9b\\xb9\\x98\\x8d3\\x9bf\\xb6\\xde\\xec\\xa4Y\\xf7P\\xa3\\xa1\\xfeC\\x05C\\xcb\\x86\\xee\\x19\\xfa\\x9b9j\\xeeb\\x1eo>\\xd3|\\x93\\xf9\\x05\\xf3^\\x0bK\\x8b\\x08\\x0b\\x99\\xc5\\x1a\\x8b\\xe3\\x16\\xdd\\x96L\\xcb`\\xcb\\x1c\\xcb\\x95\\x96\\x87-\\xbb\\xac\\x18V\\x81V\\x12\\xab\\x95VG\\xac\\xfe`\\x19\\xb38\\xac<V\\x15\\xeb\\x04\\xab\\xc7\\xda\\xdc:\\xd2Zi\\xbd\\xd1\\xba\\xcd\\xba\\xcf\\xc6\\xd1&\\xc9\\xa6\\xd8f\\x97\\xcd][\\xaa-\\xdb6\\xcbv\\xa5m\\xabm\\x8f\\x9d\\x95\\xddX\\xbbYv\\xf5v\\xbf\\xd9S\\xec\\xd9\\xf6b\\xfb\\xd5\\xf6\\xa7\\xed\\xdf88:\\xa48|\\xef\\xd0\\xe4\\xf0\\xd4\\xd1\\xc4\\x91\\xe7X\\xe4X\\xefx\\xc7\\x89\\xee\\x14\\xe44\\xd5\\xa9\\xd6\\xe9\\xaa3\\xd1\\x99\\xed\\x9c\\xeb\\xbc\\xce\\xf9\\x92\\x0b\\xea\\xe2\\xe5\"v\\xa9v\\xb9\\xe8\\x8a\\xbaz\\xbbJ\\\\\\xd7\\xb9\\xb6\\x0f#\\x0c\\xf3\\x1d&\\x1dV;\\xec\\x86\\x1b\\xcd\\x8d\\xe3V\\xe8V\\xefv\\x7f8sx\\xf4\\xf0\\xe2\\xe1M\\xc3\\x9f\\x8f\\xb0\\x1b\\x916b\\xf9\\x88\\xd3#>\\xb9{\\xb9\\xe7\\xb9ov\\xbf=\\xd2p\\xe4\\x98\\x91\\xc5#[F\\xfe\\xed\\xe1\\xe2!\\xf0\\xa8\\xf6\\xb8\\xeaI\\xf7\\x0c\\xf7\\x9c\\xeb\\xd9\\xec\\xf9b\\x94\\xeb(\\xd1\\xa8\\xf5\\xa3nz1\\xbc\\xc6z}\\xef\\xd5\\xea\\xf5\\xd1\\xdb\\xc7[\\xee\\xdd\\xe0\\xdd\\xe5c\\xe7\\x93\\xe1S\\xe3s\\x83m\\xc4\\x8ec/f\\x9f\\xf1%\\xf8\\x86\\xf8\\xce\\xf5=\\xe8\\xfb\\xce\\xcf\\xdb\\xaf\\xc0o\\x8f\\xdf_\\xfen\\xfe\\xb9\\xfe\\xdb\\xfd\\x9f\\x8ev\\x1c-\\x1a\\xbdy\\xf4\\xc3\\x00\\x9b\\x00~\\xc0\\xc6\\x80\\x8e@V`F\\xe0\\x8f\\x81\\x1dA\\xd6A\\xfc\\xa0\\xda\\xa0\\x07\\xc1\\xb6\\xc1\\xc2\\xe0-\\xc1O8\\xce\\x9c\\x1c\\xce\\x0e\\xce\\xf3\\x10\\xf7\\x10y\\xc8\\xfe\\x907\\\\?\\xeel\\xee\\xd1P,4\"\\xb4,\\xb4-\\xcc0,)lm\\xd8\\xbdp\\x9b\\xf0\\xec\\xf0\\xfa\\xf0\\x9e\\x08\\xaf\\x88\\x99\\x11G#\\t\\x91Q\\x91\\xcb#o\\xf0,x\\x02^\\x1d\\xafg\\x8c\\xcf\\x98\\xd9cND\\xd1\\xa2\\x12\\xa2\\xd6F=\\x88v\\x89\\x96G\\xb7\\x8cE\\xc7\\x8e\\x19\\xbbb\\xec\\x9d\\x18\\xfb\\x18iLS,\\x88\\xe5\\xc5\\xae\\x88\\xbd\\x1b\\xe7\\x1875\\xee\\x97q\\xc4qq\\xe3\\xaa\\xc7=\\x8e\\x1f\\x19?+\\xfet\\x02#ar\\xc2\\xf6\\x84\\xd7\\x89!\\x89K\\x13o\\'9%)\\x93Z\\x93\\xf5\\x92\\xd3\\x93\\xeb\\x92\\xdf\\xa4\\x84\\xa6T\\xa4t\\x8c\\x1f1~\\xf6\\xf8\\xf3\\xa9f\\xa9\\x92\\xd4\\xe64RZr\\xda\\x96\\xb4\\xde\\ta\\x13VM\\xe8L\\xf7J/M\\xbf>\\xd1q\\xe2\\xf4\\x89g\\'\\x99M\\xca\\x9bth\\xb2\\xded\\xfe\\xe4\\xbd\\x19\\x84\\x8c\\x94\\x8c\\xed\\x19\\x1f\\xf8\\xb1\\xfcZ~o&/\\xb3&\\xb3G\\xc0\\x15\\xac\\x16<\\x13\\x06\\x0bW\\n\\xbbD\\x01\\xa2\\n\\xd1\\x93\\xac\\x80\\xac\\x8a\\xac\\xa7\\xd9\\x01\\xd9+\\xb2\\xbb\\xc4A\\xe2Jq\\xb7\\x84+Y+y\\x91\\x13\\x99\\xb3!\\xe7Mnl\\xee\\xd6\\xdc\\xfe\\xbc\\x94\\xbc]\\xf9\\xe4\\xfc\\x8c\\xfc\\x03RCi\\xae\\xf4\\xc4\\x14\\xcb)\\xd3\\xa7\\xb4\\xcb\\\\e\\xa5\\xb2\\x8e\\xa9~SWM\\xed\\x91G\\xc9\\xb7(\\x10\\xc5DEs\\x81\\x11<\\xb0_P:)\\xbfS\\xde/\\x0c,\\xac.|;-y\\xda\\xde\\xe9\\x06\\xd3\\xa5\\xd3/\\xccp\\x99\\xb1h\\xc6\\x93\\xa2\\xf0\\xa2\\x9ff\\xe23\\x053[gY\\xcf\\x9a?\\xeb\\xfel\\xce\\xec\\x8ds\\x909\\x99sZ\\xe7\\xda\\xce-\\x99\\xdb9/b\\xde\\xb6\\xf9\\xd4\\xf9\\xb9\\xf3\\x7f-v/\\xae(~\\xb5 eAK\\x89E\\xc9\\xbc\\x92\\x87\\xdfE|W_\\xaa[*/\\xbd\\xf1\\xbd\\xff\\xf7\\x1b\\x16\\xe2\\x0b%\\x0b\\xdb\\x16y.Z\\xb3\\xe8S\\x99\\xb0\\xec\\\\\\xb9{ye\\xf9\\x87\\xc5\\x82\\xc5\\xe7~\\x18\\xf9C\\xd5\\x0f\\xfdK\\xb2\\x96\\xb4-\\xf5^\\xba~\\x19q\\x99t\\xd9\\xf5\\xe5A\\xcb\\xb7U\\x18T\\x14U<\\\\1vE\\xe3J\\xd6\\xca\\xb2\\x95\\xafVM^u\\xb6rT\\xe5\\x86\\xd5\\xd4\\xd5\\xca\\xd5\\x1dU\\xd1U\\xcdk\\xec\\xd6,[\\xf3a\\xadx\\xed\\xb5\\xea\\x90\\xea]5\\xe65\\x8bj\\xde\\xac\\x13\\xae\\xbb\\xbc>x}\\xc3\\x06\\x8b\\r\\xe5\\x1b\\xde\\xff(\\xf9\\xf1\\xe6\\xc6\\x88\\x8d\\x8d\\xb5\\x0e\\xb5\\x95\\x9b\\x88\\x9b\\n7=\\xde\\x9c\\xbc\\xf9\\xf4O\\xec\\x9f\\xea\\xb6\\x98m)\\xdf\\xf2q\\xabtk\\xc7\\xb6\\xf8m\\'\\xea|\\xea\\xea\\xb6\\x9bo_Z\\x8f\\xd6+\\xeb\\xbbv\\xa4\\xef\\xb8\\xb43tgs\\x83[\\xc3\\xc6]\\xcc]\\xe5\\xbb\\xc1n\\xe5\\xee?~\\xce\\xf8\\xf9\\xfa\\x9e\\xa8=\\xad{\\xd9{\\x1b\\xf6\\xd9\\xef\\xab\\xd9\\xcf\\xd8_\\xd6\\x884\\xceh\\xeci\\x127u4\\xa76\\xb7\\x1f\\x18s\\xa0\\xb5\\xc5\\xbfe\\xff/\\xc3\\x7f\\xd9z\\xd0\\xfa`\\xf5!\\xe3CK\\x0fS\\x0f\\x97\\x1c\\xee?Rt\\xa4\\xf7\\xa8\\xech\\xf7\\xb1\\xecc\\x0f[\\'\\xb7\\xde>>\\xfe\\xf8\\xd5\\x13\\xe3N\\xb4\\x9d\\x8c:y\\xe6T\\xf8\\xa9\\xe3\\xa79\\xa7\\x8f\\x9c\\t8s\\xf0\\xac\\xdf\\xd9\\x03\\xe7\\xd8\\xe7\\x9a\\xce{\\x9fo\\xbc\\xe0ua\\xff\\xaf^\\xbf\\xeeo\\xf3nk\\xbc\\xe8s\\xb1\\xf9\\x92\\xef\\xa5\\x96\\xf6\\xd1\\xed\\x87/\\x07]>v%\\xf4\\xca\\xa9\\xab\\xbc\\xab\\xe7\\xaf\\xc5\\\\k\\xbf\\x9et\\xfd\\xe6\\x8d\\xf4\\x1b\\x1d7\\x857\\x9f\\xde\\xca\\xbb\\xf5\\xe2\\xb7\\xc2\\xdf\\xfan\\xcf\\xbbC\\xb8SvW\\xffn\\xe5=\\xf3{\\xb5\\xbf;\\xff\\xbe\\xab\\xc3\\xbb\\xe3\\xd0\\xfd\\xd0\\xfb\\x17\\x1e$<\\xb8\\xfdP\\xf0\\xf0\\xd9#\\xc5\\xa3\\x0f\\x9d%\\x8f\\xe9\\x8f+\\x9fX=\\xa9{\\xea\\xf1\\xf4`Wx\\xd7\\xa5?&\\xfc\\xd1\\xf9L\\xf6\\xac\\xaf\\xbb\\xf4O\\x83?k\\x9e;=\\xdf\\xf7W\\xf0_\\x17z\\xc6\\xf7t\\xbe\\x90\\xbf\\xe8\\xff{\\xf1K\\xd3\\x97[_\\x8dz\\xd5\\xda\\x1b\\xd7{\\xefu\\xfe\\xeb\\xbe7eoM\\xdfn{\\xc7~w\\xfa}\\xca\\xfb\\'}\\xd3>\\x90>T}t\\xfe\\xd8\\xf2)\\xea\\xd3\\x9d\\xfe\\xfc\\xfe~\\x19_\\xceW\\x1f\\x050\\xd8\\xd0\\xac,\\x00\\xfe\\xde\\n\\x00=\\x15\\x00\\xc6%x~\\x98\\xa0\\xb9\\xe7\\xa9\\x05\\xd1\\xdcM\\xd5\\x08\\xfc\\'\\xac\\xb9\\x0b\\xaa\\xc5\\x1b\\x80\\x06\\xf8R\\x1d\\xd7\\xb9G\\x01\\xd8\\r\\x9b\\xc3<\\xc8\\r\\x9b\\xea\\xa8\\x9e\\x18\\x0cPO\\xcf\\xc1\\xa6\\x15E\\x96\\xa7\\x87\\x86\\x8b\\x06o<\\x84\\xb7\\xfd\\xfd/-\\x00 \\xb5\\x00\\xf0Q\\xde\\xdf\\xdf\\xb7\\xae\\xbf\\xff\\xe3f\\x18\\xec-\\x00\\x8eN\\xd5\\xdc/UB\\x84w\\x83\\x1f\\x03U\\xe8\\x9a\\xc9\\xc4E\\xe0+\\xf9\\x17\\x07\\xb5\\x7fX[\\xf4\\xf3\\xaf\\x00\\x00\\x00\\x8aeXIfMM\\x00*\\x00\\x00\\x00\\x08\\x00\\x04\\x01\\x1a\\x00\\x05\\x00\\x00\\x00\\x01\\x00\\x00\\x00>\\x01\\x1b\\x00\\x05\\x00\\x00\\x00\\x01\\x00\\x00\\x00F\\x01(\\x00\\x03\\x00\\x00\\x00\\x01\\x00\\x02\\x00\\x00\\x87i\\x00\\x04\\x00\\x00\\x00\\x01\\x00\\x00\\x00N\\x00\\x00\\x00\\x00\\x00\\x00\\x00\\x90\\x00\\x00\\x00\\x01\\x00\\x00\\x00\\x90\\x00\\x00\\x00\\x01\\x00\\x03\\x92\\x86\\x00\\x07\\x00\\x00\\x00\\x12\\x00\\x00\\x00x\\xa0\\x02\\x00\\x04\\x00\\x00\\x00\\x01\\x00\\x00\\x01\\x9c\\xa0\\x03\\x00\\x04\\x00\\x00\\x00\\x01\\x00\\x00\\x01\\x9c\\x00\\x00\\x00\\x00ASCII\\x00\\x00\\x00Screenshot\\xdc\\\\\\xa1\\xee\\x00\\x00\\x00\\tpHYs\\x00\\x00\\x16%\\x00\\x00\\x16%\\x01IR$\\xf0\\x00\\x00\\x01\\xd6iTXtXML:com.adobe.xmp\\x00\\x00\\x00\\x00\\x00<x:xmpmeta xmlns:x=\"adobe:ns:meta/\" x:xmptk=\"XMP Core 5.4.0\">\\n   <rdf:RDF xmlns:rdf=\"http://www.w3.org/1999/02/22-rdf-syntax-ns#\">\\n      <rdf:Description rdf:about=\"\"\\n            xmlns:exif=\"http://ns.adobe.com/exif/1.0/\">\\n         <exif:PixelXDimension>412</exif:PixelXDimension>\\n         <exif:UserComment>Screenshot</exif:UserComment>\\n         <exif:PixelYDimension>412</exif:PixelYDimension>\\n      </rdf:Description>\\n   </rdf:RDF>\\n</x:xmpmeta>\\n\\xee-1\\x9b\\x00\\x00\\x00\\x1ciDOT\\x00\\x00\\x00\\x02\\x00\\x00\\x00\\x00\\x00\\x00\\x00\\xce\\x00\\x00\\x00(\\x00\\x00\\x00\\xce\\x00\\x00\\x00\\xce\\x00\\x00\\x11\\x14\\xf2\\xc0\\x98\\x92\\x00\\x00\\x10\\xe0IDATx\\x01\\xec\\xdd\\x81\\x91\\x9cH\\x12\\x85a\\xce\\x03\\x990&\\xc8\\x83\\xc5\\x13\\x992!Sd\\xc9j=\\x90\\tc\\x82<\\xd0Mo\\x88>\\xb6\\xb5:\\x1a\\x122\\xab\\xe0#b\\x03f\\x04\\x95Y\\xff{Uo\\xd5\\x8ah\\xfe\\xf3\\xe3\\xfd\\x18\\x1c\\x08 \\x80\\x00\\x02\\x08\\x1cL\\xe0?\\x02\\xe7`\\xc2\\x86G\\x00\\x01\\x04\\x10\\xf8\\x9b\\x80\\xc0a\\x04\\x04\\x10@\\x00\\x81\\x14\\x02\\x02\\'\\x05\\xb3\"\\x08 \\x80\\x00\\x02\\x02\\x87\\x07\\x10@\\x00\\x01\\x04R\\x08\\x08\\x9c\\x14\\xcc\\x8a \\x80\\x00\\x02\\x08\\x08\\x1c\\x1e@\\x00\\x01\\x04\\x10H! pR0+\\x82\\x00\\x02\\x08  px\\x00\\x01\\x04\\x10@ \\x85\\x80\\xc0I\\xc1\\xac\\x08\\x02\\x08 \\x80\\x80\\xc0\\xe1\\x01\\x04\\x10@\\x00\\x81\\x14\\x02\\x02\\'\\x05\\xb3\"\\x08 \\x80\\x00\\x02\\x02\\x87\\x07\\x10@\\x00\\x01\\x04R\\x08\\x08\\x9c\\x14\\xcc\\x8a \\x80\\x00\\x02\\x08\\x08\\x1c\\x1e@\\x00\\x01\\x04\\x10H! pR0+\\x82\\x00\\x02\\x08  px\\x00\\x01\\x04\\x10@ \\x85\\x80\\xc0I\\xc1\\xac\\x08\\x02\\x08 \\x80\\x80\\xc0\\xe1\\x01\\x04\\x10@\\x00\\x81\\x14\\x02\\x02\\'\\x05\\xb3\"\\x08 \\x80\\x00\\x02\\x02\\x87\\x07\\x10@\\x00\\x01\\x04R\\x08\\x08\\x9c\\x14\\xcc\\x8a \\x80\\x00\\x02\\x08\\x08\\x1c\\x1e@\\x00\\x01\\x04\\x10H! pR0+\\x82\\x00\\x02\\x08  px\\x00\\x01\\x04\\x10@ \\x85\\x80\\xc0I\\xc1\\xac\\x08\\x02\\x08 \\x80\\x80\\xc0\\xe1\\x01\\x04\\x10@\\x00\\x81\\x14\\x02\\x02\\'\\x05\\xb3\"\\x08 \\x80\\x00\\x02\\x02\\x87\\x07\\x10@\\x00\\x01\\x04R\\x08\\x08\\x9c\\x14\\xcc\\x8a \\x80\\x00\\x02\\x08\\x08\\x1c\\x1e@\\x00\\x01\\x04\\x10H! pR0+\\x82\\x00\\x02\\x08  px\\x00\\x01\\x04\\x10@ \\x85\\x80\\xc0I\\xc1\\xdcv\\x91\\xef\\xdf\\xbf\\x0fooo\\xc3\\xed\\xec8?\\x81\\x0f\\x1f>\\x0c///\\xc3\\xed\\xec@ \\x93\\x80\\xc0\\xc9\\xa4\\xddh\\xado\\xdf\\xbe\\r_\\xbe|\\x19ng\\xc7\\xf9\\t|\\xfc\\xf8q\\xf8\\xf4\\xe9\\xd3p;;\\x10\\xc8$ p2i7Z\\xeb\\xeb\\xd7\\xaf\\xc3\\xe7\\xcf\\x9f\\x87\\xdb\\xd9q~\\x02\\xe38\\x0e\\xaf\\xaf\\xaf\\xc3\\xed\\xec@ \\x93\\x80\\xc0\\xc9\\xa4\\xddh-\\x81\\xd3\\xa80\\x07\\xb5%p\\x0e\\x02k\\xd8E\\x02\\x02g\\x11\\xd1\\xf9o\\x108\\xe7\\xd7x>C\\x813\\xa7\\xe1:\\x93\\x80\\xc0\\xc9\\xa4\\xddh-\\x81\\xd3\\xa80\\x07\\xb5%p\\x0e\\x02k\\xd8E\\x02\\x02g\\x11\\xd1\\xf9o\\x108\\xe7\\xd7x>C\\x813\\xa7\\xe1:\\x93\\x80\\xc0\\xc9\\xa4\\xddh-\\x81\\xd3\\xa80\\x07\\xb5%p\\x0e\\x02k\\xd8E\\x02\\x02g\\x11\\xd1\\xf9o\\x108\\xe7\\xd7x>C\\x813\\xa7\\xe1:\\x93\\x80\\xc0\\xc9\\xa4\\xddh-\\x81\\xd3\\xa80\\x07\\xb5%p\\x0e\\x02k\\xd8E\\x02\\x02g\\x11\\xd1\\xf9o\\x108\\xe7\\xd7x>C\\x813\\xa7\\xe1:\\x93\\x80\\xc0\\xc9\\xa4\\xddh-\\x81\\xd3\\xa80\\x07\\xb5%p\\x0e\\x02k\\xd8E\\x02\\x02g\\x11\\xd1\\xf9o\\x108\\xe7\\xd7x>C\\x813\\xa7\\xe1:\\x93\\x80\\xc0\\xc9\\xa4\\xddh-\\x81\\xd3\\xa80\\x07\\xb5%p\\x0e\\x02k\\xd8E\\x02\\x02g\\x11\\xd1\\xf9o\\x108\\xe7\\xd7x>C\\x813\\xa7\\xe1:\\x93\\x80\\xc0\\xc9\\xa4\\xddh-\\x81\\xd3\\xa80\\x07\\xb5%p\\x0e\\x02k\\xd8E\\x02\\x02g\\x11\\xd1\\xf17T\\xbf\\x8f\\xc6\\xeb\\t\\x8e\\xd7\\xb8\\xa5\\n\\xd1\\xd7\\x13x\\x9fNKj\\xf6\\xd5\\x8b\\xc0i@\\xaf\\xea\\r\\xbf:\\xf0\\x1a\\x90\\xe0R-D\\x03#\\x1aX\\x97\\x82m\\xb2\\xff  p\\xfe\\x81\\xa3\\xe6\\x07\\x1fi\\xd5pWu\\x1b\\x01\\x1f\\xc9m\\xe3\\xe6\\xa9a\\x108\\r\\xb8@\\xe04 \\x82\\x16\\x9e& p\\x9eF\\xe5\\xc6\\x07\\x02\\x02\\xe7\\x01H\\xc5\\x8f\\x02\\xa7\\x82\\xba\\x9a[\\t\\x08\\x9c\\xad\\xe4<\\'p\\x1a\\xf0\\x80\\xc0i@\\x04-<M@\\xe0<\\x8d\\xca\\x8d\\x0f\\x04\\x04\\xce\\x03\\x90\\x8a\\x1f\\x05N\\x05u5\\xb7\\x12\\x108[\\xc9yN\\xe04\\xe0\\x01\\x81\\xd3\\x80\\x08Zx\\x9a\\x80\\xc0y\\x1a\\x95\\x1b\\x1f\\x08\\x08\\x9c\\x07 \\x15?\\n\\x9c\\n\\xeajn% p\\xb6\\x92\\xf3\\x9c\\xc0i\\xc0\\x03\\x02\\xa7\\x01\\x11\\xb4\\xf04\\x01\\x81\\xf34*7>\\x10\\x108\\x0f@*~\\x148\\x15\\xd4\\xd5\\xdcJ@\\xe0l%\\xe79\\x81\\xd3\\x80\\x07\\x04N\\x03\"h\\xe1i\\x02\\x02\\xe7iTn|  p\\x1e\\x80T\\xfc(p*\\xa8\\xab\\xb9\\x95\\x80\\xc0\\xd9J\\xces\\x02\\xa7\\x01\\x0f\\x08\\x9c\\x06D\\xd0\\xc2\\xd3\\x04\\x04\\xce\\xd3\\xa8\\xdc\\xf8@@\\xe0<\\x00\\xa9\\xf8Q\\xe0TPWs+\\x01\\x81\\xb3\\x95\\x9c\\xe7\\x04N\\x03\\x1e\\x108\\r\\x88\\xa0\\x85\\xa7\\t\\x08\\x9c\\xa7Q\\xb9\\xf1\\x81\\x80\\xc0y\\x00R\\xf1\\xa3\\xc0\\xa9\\xa0>\\x0c\\xd1\\xaf\\xe9\\xbf\\xeak\\x1d\\xaa_O\\x10\\xd5\\xad\\xc6m\\xaa\\xde\\x08\\x08\\x9c\\x06| pjD\\x88n\\x9c\\xd5\\xef1\\xaa\\xa1\\x16\\x0f\\xeah\\xdfQ\\xdd\\xa2\\xf5=\\x1f \\xf0\\xc3QN\\xe0\\xcf?\\xff\\xfc\\xf1\\xfe1\\xc5\\x8fw\\x19\\xfd\\x97\\xc8\\xe0\\xc6\\xfc\\xc6~\\xebA\\xb7\\x1a\\xbfFu\\xdb\\xaa\\xb7\\xe7\\xe2\\x04\\x86\\xf8\\x10F\\x88\\x12\\xb0q\\xf5\\xb9q\\xd1\\xadO\\xdd\\xa2\\xeb\\xd5\\xf3\\xdb\\t\\x08\\x9c\\xed\\xecv{\\xd2\\xc6\\xd5\\xe7\\xc6E\\xb7>u\\xdbm\\xe1\\x1ah5\\x01\\x81\\xb3\\x1a\\xd9\\xfe\\x0f\\xd8\\xb8\\xfa\\xdc\\xb8\\xe8\\xd6\\xa7n\\xfb\\xaf`#>K@\\xe0<K\\xea\\xc0\\xfbl\\\\}n\\\\t\\xebS\\xb7\\x03\\x97\\xb2\\xa1\\x17\\x08\\x08\\x9c\\x05@\\x19\\x7fl\\xe3\\xeas\\xe3\\xa2[\\x9f\\xbae\\xaci5\\xfe\\x9d\\x80\\xc0\\xf9w.\\xa9\\xbf\\xb5q\\xf5\\xb9q\\xd1\\xadO\\xddR\\x17\\xb7b\\xff  p\\xfe\\x81\\xa3\\xe6\\x07\\x1bW\\x9f\\x1b\\x17\\xdd\\xfa\\xd4\\xadf\\x95\\xabz# p\\x1a\\xf0\\x81\\x8d\\xab\\xcf\\x8d\\x8bn}\\xea\\xd6\\xc0\\x92\\xbfl\\x0b\\x02\\xa7\\x01\\xe9m\\\\}n\\\\t\\xebS\\xb7\\x06\\x96\\xfce[\\x108\\rHo\\xe3\\xeas\\xe3\\xa2[\\x9f\\xba5\\xb0\\xe4/\\xdb\\x82\\xc0i@z\\x1bW\\x9f\\x1b\\x17\\xdd\\xfa\\xd4\\xad\\x81%\\x7f\\xd9\\x16\\x04N\\x03\\xd2\\xdb\\xb8\\xfa\\xdc\\xb8\\xe8\\xd6\\xa7n\\r,\\xf9\\xcb\\xb6 p\\x1a\\x90\\xde\\xc6\\xd5\\xe7\\xc6E\\xb7>uk`\\xc9_\\xb6\\x05\\xaf\\'\\x08|\\xd3\\xf6\\xe3\\xa3[\\xdf\\x8fr\\xd5\\xaf\\xb9\\x7f\\xe4\\xb7\\xf6\\xe7\\xe8{Q\\xa2_s_\\xad\\xdbV\\xbf\\xad\\xe5\\xdc\\xda\\xfd[u\\x8b\\xfa\\xa55\\x0e=\\xf6#pvTm\\xeb\\x06t\\xd5\\x8d#\\x8a~\\xeb\\xc63\\xd5\\x8dn@\\xd5\\xbam\\xf5\\xdb4\\xff^\\xcf[u\\x8b\\xfa\\xa5W^M\\xf5}\\xd9\\xbf\\xdb\\x1d0q\\x1f\\xb1\\xe4~\\xc4r\\xf5\\xf7\\xa2\\xf0\\xdb:\\xbf]\\xdd/\\x07ly\\xab\\x87\\xf4o8\\xab\\x91\\xfd\\xfe\\x01\\x1b\\xc0\\xba\\r\\xe0\\xfd\\xff\\xbcB/\\x9c\\xbb\\xfa\\x06\\xc2o\\xeb\\xfcsu\\xbf\\xfc~\\xe7\\xca\\xfb\\x13\\x81\\xb3#k\\x1b\\xc0\\xba\\r@\\xe0\\xc4\\xcc\\xc7o\\xeb\\xfc&pb~\\xdb\\xe3i\\x81\\xb3\\x07\\xc5\\x9fc\\xd8\\x00\\xd6m\\x00\\x02\\'f>~[\\xe77\\x81\\x13\\xf3\\xdb\\x1eO\\x0b\\x9c=(\\xfe\\x1c\\xc3\\x06\\xb0n\\x03\\x1081\\xf3\\xf1\\xdb:\\xbf\\t\\x9c\\x98\\xdf\\xf6xZ\\xe0\\xecA\\xf1\\xe7\\x186\\x80u\\x1b\\x80\\xc0\\x89\\x99\\x8f\\xdf\\xd6\\xf9M\\xe0\\xc4\\xfc\\xb6\\xc7\\xd3\\x02g\\x0f\\x8a?\\xc7\\xb0\\x01\\xac\\xdb\\x00\\x04N\\xcc|\\xfc\\xb6\\xceo\\x02\\'\\xe6\\xb7=\\x9e\\x168{P\\xfc9\\x86\\r`\\xdd\\x06 pb\\xe6\\xe3\\xb7u~\\x1381\\xbf\\xed\\xf1\\xb4\\xc0\\xd9\\x83\\xe2\\xcf1l\\x00\\xeb6\\x00\\x81\\x133\\x1f\\xbf\\xad\\xf3\\x9b\\xc0\\x89\\xf9m\\x8f\\xa7\\x05\\xce\\x1e\\x14\\x7f\\x8ea\\x03X\\xb7\\x01\\x08\\x9c\\x98\\xf9\\xf8m\\x9d\\xdf\\x04N\\xcco{<-p\\xf6\\xa0\\xf8s\\x0c\\x1b\\xc0\\xba\\r@\\xe0\\xc4\\xcc\\xc7o\\xeb\\xfc&pb~\\xdb\\xe3i\\x81\\xb3\\x07\\xc5\\x9fc\\xd8\\x00\\xd6m\\x00\\x02\\'f>~[\\xe77\\x81\\x13\\xf3\\xdb\\x1eO\\xfb\\xf2\\xce\\xf7]o:\\xa2_\\xc6\\xb8\\xf5\\xcb\\x14\\xb7~\\x19\\xe1^}O\\xe3l=G\\xfb\\xdfZ\\xf7\\xea_\\xc6\\xb8\\xd5oQ\\x9fo\\xd5\\xab\\xfa\\xb9\\xf7\\xc0\\x19^__\\x87\\xdb\\xd9QC@\\xe0\\xcc\\xb8o]\\xc0\\xd3\\x10[\\x17rt\\xe3\\x8c\\xf6=\\xf5\\xbf\\xf5\\x1c\\xed\\x7fk\\xdd\\xaa\\xa0\\xdb\\xda\\xef\\xde\\xcfm\\xf5[\\xb5_\\xf6\\xe6\\xf0\\xecx\\x02\\xe7YR\\x07\\xde\\xb7\\xc7_\\x93\\xce2F\\xd5G\\x14\\xef\\x0b\\xe1\\xc7\\xad\\xf6\\xd6\\xa3\\xaa\\xefw[\\xfe\\xfd\\xe5\\x9b\\xd1\\xfe\\xb7\\xce\\xdbs\\xdb\\x08T\\xfbe\\xf2M\\xf6\\x99O\\xb7\\xf9e\\xcf\\xa7\\xfc\\x1b\\xce\\x8cf\\xd5B\\x8c.\\x84\\xaa\\xbe\\xa7\\r#\\xda\\xffL\\x02\\x97\\t\\x04\\xaa\\xfd2\\xf9&\\xfb\\xcc\\xa7\\t\\xe6Z(!pf\\x80\\xaa\\x16bt!T\\xf5=m\\x18\\xd1\\xfeg\\x12\\xb8L P\\xed\\x97\\xc97\\xd9g>M0\\xd7B\\t\\x813\\x03T\\xb5\\x10\\xa3\\x0b\\xa1\\xaa\\xefi\\xc3\\x88\\xf6?\\x93\\xc0e\\x02\\x81j\\xbfL\\xbe\\xc9>\\xf3i\\x82\\xb9\\x16J\\x08\\x9c\\x19\\xa0\\xaa\\x85\\x18]\\x08U}O\\x1bF\\xb4\\xff\\x99\\x04.\\x13\\x08T\\xfbe\\xf2M\\xf6\\x99O\\x13\\xcc\\xb5PB\\xe0\\xcc\\x00U-\\xc4\\xe8B\\xa8\\xea{\\xda0\\xa2\\xfd\\xcf$p\\x99@\\xa0\\xda/\\x93o\\xb2\\xcf|\\x9a`\\xae\\x85\\x12\\x02g\\x06\\xa8j!F\\x17BU\\xdf\\xd3\\x86\\x11\\xed\\x7f&\\x81\\xcb\\x04\\x02\\xd5~\\x99|\\x93}\\xe6\\xd3\\x04s-\\x94\\x1083@U\\x0b1\\xba\\x10\\xaa\\xfa\\x9e6\\x8ch\\xff3\\t\\\\&\\x10\\xa8\\xf6\\xcb\\xe4\\x9b\\xec3\\x9f&\\x98k\\xa1\\x84\\xc0\\x99\\x01\\xaaZ\\x88\\xd1\\x85P\\xd5\\xf7\\xb4aD\\xfb\\x9fI\\xe02\\x81@\\xb5_&\\xdfd\\x9f\\xf94\\xc1\\\\\\x0b%\\x04\\xce\\x0cP\\xd5B\\x8c.\\x84\\xaa\\xbe\\xa7\\r#\\xda\\xffL\\x02\\x97\\t\\x04\\xaa\\xfd2\\xf9&\\xfb\\xcc\\xa7\\t\\xe6Z(!pf\\x80\\xaa\\x16bt!T\\xf5=m\\x18\\xd1\\xfeg\\x12\\xb8L P\\xed\\x97\\xc97\\xd9g>M0\\xd7B\\t\\x813\\x03T\\xb5\\x10\\xa3\\x0b\\xa1\\xaa\\xefi\\xc3\\x88\\xf6?\\x93\\xc0e\\x02\\x81j\\xbfL\\xbe\\xc9>\\xf3i\\x82\\xb9\\x16J\\x08\\x9c\\x19\\xa0\\xaa\\x85\\x18]\\x08U}O\\x1bF\\xb4\\xff\\x99\\x04.\\x13\\x08T\\xfbe\\xf2M\\xf6\\x99O\\x13\\xcc\\xb5PB\\xe0\\xcc\\x00U-\\xc4\\xe8B\\xa8\\xea{\\xda0\\xa2\\xfd\\xcf$p\\x99@\\xa0\\xda/\\x93o\\xb2\\xcf|\\x9a`\\xae\\x85\\x12^O\\xf0\\xee\\xfa\\xe9\\x88~m\\xfb\\xd6\\xaf\\x8b\\x8f~\\xbd\\xff\\xdb\\xdb\\xdb\\xf0\\xd7_\\x7f\\r\\xb7s\\xc5\\x11\\xed\\xbf\\xa2\\xe7+\\xd7\\xac\\xf2y5\\xf3\\xa8O\\xaf\\xfe:\\x8c=\\xf4\\x1383\\x8a[\\x03c\\x1ab\\xebB\\x8e\\x1a\\xf9\\xe5\\xe5e\\xf8\\xe3\\x8f?\\x86\\xdb\\xb9\\xe2\\x88\\xf6_\\xd1\\xf3\\x95kV\\xf9\\xbc\\x9ay\\xd4\\xa7\\xd1\\xc0\\xaa\\x9e\\x7f\\x13\\xf5\\x17\\xfe\\x06\\xe4\\x8fW\\x10\\xa8\\xfa\\xa8\\xc2G\\x05+Drk\\x98@\\x95\\xcf\\xdf7\\xcc\\xbf\\xdf\\xbfTu\\xb6\\xce\\xc2\\xd6\\xf9\\xe1\\xdfp\\xe2\\x0c\\xef#T-D\\x0b\\xe1.\\x81\\x8b\\x04\\x02U>\\xaf\\n\\x9a\\xa9\\xaeu\\x167\\x97\\xc0\\x893\\xbc\\x8fP\\xb5\\x10-\\x84\\xbb\\x04.\\x12\\x08T\\xf9|\\xda\\xf8\\xab\\xce\\xd6Y\\xdc\\\\\\x02\\'\\xce\\xf0>B\\xd5B\\xb4\\x10\\xee\\x12\\xb8H P\\xe5\\xf3\\xaa\\xa0\\x99\\xeaZgqs\\t\\x9c8\\xc3\\xfb\\x08U\\x0b\\xd1B\\xb8K\\xe0\"\\x81@\\x95\\xcf\\xa7\\x8d\\xbf\\xeal\\x9d\\xc5\\xcd%p\\xe2\\x0c\\xef#T-D\\x0b\\xe1.\\x81\\x8b\\x04\\x02U>\\xaf\\n\\x9a\\xa9\\xaeu\\x167\\x97\\xc0\\x893\\xbc\\x8fP\\xb5\\x10-\\x84\\xbb\\x04.\\x12\\x08T\\xf9|\\xda\\xf8\\xab\\xce\\xd6Y\\xdc\\\\\\x02\\'\\xce\\xf0>B\\xd5B\\xb4\\x10\\xee\\x12\\xb8H P\\xe5\\xf3\\xaa\\xa0\\x99\\xeaZgqs\\t\\x9c8\\xc3\\xfb\\x08U\\x0b\\xd1B\\xb8K\\xe0\"\\x81@\\x95\\xcf\\xa7\\x8d\\xbf\\xeal\\x9d\\xc5\\xcd%p\\xe2\\x0c\\xef#T-D\\x0b\\xe1.\\x81\\x8b\\x04\\x02U>\\xaf\\n\\x9a\\xa9\\xaeu\\x167\\x97\\xc0\\x893\\xbc\\x8fP\\xb5\\x10-\\x84\\xbb\\x04.\\x12\\x08T\\xf9|\\xda\\xf8\\xab\\xce\\xd6Y\\xdc\\\\\\x02\\'\\xce\\xf0>B\\xd5B\\xb4\\x10\\xee\\x12\\xb8H P\\xe5\\xf3\\xaa\\xa0\\x99\\xeaZgqs\\t\\x9c8\\xc3\\xfb\\x08U\\x0b\\xd1B\\xb8K\\xe0\"\\x81@\\x95\\xcf\\xa7\\x8d\\xbf\\xeal\\x9d\\xc5\\xcd%p\\xe2\\x0c\\xef#T-D\\x0b\\xe1.\\x81\\x8b\\x04\\x02U>\\xaf\\n\\x9a\\xa9\\xaeu\\x167\\x97\\xd7\\x13\\xbc\\xbbi\\xafc\\xeb\\xeb\\t\\xa2\\xf5}mz\\x94\\xa0\\xe7\\xd7\\x10\\xf8\\xfa\\xf5\\xeb\\xf0\\xf9\\xf3\\xe7\\xe1v\\xee\\xe9\\xf0z\\x82z\\xb5\\x04\\xce\\x8e\\x1aD\\xdf3\\xb2\\xb5\\x95\\xe8B\\xdaZ\\xd7s\\xd7$\\xd0k\\xe0D\\xff\\xc7\\xcc:\\x8b\\xfb]\\xe0\\xc4\\x19\\x1a\\x01\\x81K\\x11\\xe85p\\xde?\\x12\\x1b^__\\x87\\xdb\\xd9QC@\\xe0\\xd4pW\\x15\\x81n\\t\\x08\\x9cn\\xa5+o\\\\\\xe0\\x94K\\xa0\\x01\\x04\\xfa\" p\\xfa\\xd2\\xab\\xa5n\\x05NKj\\xe8\\x05\\x81\\x0e\\x08\\x08\\x9c\\x0eDj\\xb4E\\x81\\xd3\\xa80\\xdaB\\xa0U\\x02\\x02\\xa7Ue\\xda\\xefK\\xe0\\xb4\\xaf\\x91\\x0e\\x11h\\x8a\\x80\\xc0iJ\\x8e\\xae\\x9a\\x118]\\xc9\\xa5Y\\x04\\xea\\t\\x08\\x9cz\\rz\\xed@\\xe0\\xf4\\xaa\\x9c\\xbe\\x11(\" p\\x8a\\xc0\\x9f\\xa0\\xac\\xc09\\x81\\x88\\xa6\\x80@&\\x01\\x81\\x93I\\xfb\\\\\\xb5\\x04\\xce\\xb9\\xf44\\x1b\\x04\\x0e\\' p\\x0eG|\\xda\\x02\\x02\\xe7\\xb4\\xd2\\x9a\\x18\\x02\\xc7\\x10\\x108\\xc7p\\xbd\\xc2\\xa8\\x02\\xe7\\n*\\x9b#\\x02;\\x12\\x108;\\xc2\\xbc\\xd8P\\x02\\xe7b\\x82\\x9b.\\x02Q\\x02\\x02\\'J\\xf0\\xba\\xcf\\x0b\\x9c\\xebjo\\xe6\\x08l\" p6a\\xf3\\xd0;\\x01\\x81\\xc3\\x06\\x08 \\xb0\\x8a\\x80\\xc0Y\\x85\\xcb\\xcd3\\x02\\x02g\\x06\\xc3%\\x02\\x08,\\x13\\x108\\xcb\\x8c\\xdc\\xf1\\xef\\x04\\x04\\xce\\xbfs\\xf1[\\x04\\x10\\xf8\\r\\x01\\x81\\xf3\\x1b0~\\xbdH@\\xe0,\"r\\x03\\x02\\x08\\xcc\\t\\x08\\x9c9\\r\\xd7k\\x08\\x08\\x9c5\\xb4\\xdc\\x8b\\x00\\x02\\x83\\xc0a\\x82\\xad\\x04\\x04\\xceVr\\x9eC\\xe0\\xa2\\x04\\x04\\xceE\\x85\\xdfa\\xda\\x02g\\x07\\x88\\x86@\\xe0J\\x04\\x04\\xce\\x95\\xd4\\xdew\\xae\\x02g_\\x9eFC\\xe0\\xf4\\x04\\x04\\xce\\xe9%>l\\x82\\x02\\xe70\\xb4\\x06F\\xe0\\x9c\\x04\\x04\\xce9u\\xcd\\x98\\x95\\xc0\\xc9\\xa0\\xac\\x06\\x02\\'\" pN$f\\xf2T\\x04N2p\\xe5\\x10\\xe8\\x9d\\x80\\xc0\\xe9]\\xc1\\xba\\xfe\\x05N\\x1d{\\x95\\x11\\xe8\\x92\\x80\\xc0\\xe9R\\xb6&\\x9a\\x168M\\xc8\\xa0\\t\\x04\\xfa! p\\xfa\\xd1\\xaa\\xb5N\\x05Nk\\x8a\\xe8\\x07\\x81\\xc6\\t\\x08\\x9c\\xc6\\x05j\\xb8=\\x81\\xd3\\xb08ZC\\xa0E\\x02\\x02\\xa7EU\\xfa\\xe8I\\xe0\\xf4\\xa1\\x93.\\x11h\\x86\\x80\\xc0iF\\x8a\\xee\\x1a\\x118\\xddI\\xa6a\\x04b\\x04\\xbe\\x7f\\xff>\\xbc\\xbd\\xbd\\r\\xb7\\xf3\\x96\\xe3\\xdb\\xb7o\\xc3\\x97/_\\x86\\xdb\\xb9\\xa7c\\x1c\\xc7\\xe1\\xf5\\xf5u\\xb8\\x9d\\x1d5\\x04\\x04N\\rwU\\x11(#\\x10\\r\\x8ch`UM\\\\\\xe0T\\x91\\xff_]\\x81\\xf3?\\x16\\xae\\x10\\xb8\\x04\\x81^?\\x12\\x8b\\x8a#p\\xa2\\x04\\xe3\\xcf\\x0b\\x9c8C# \\xd0\\x15\\x01\\x813v\\xa5\\xd7\\x99\\x9a\\x158gR\\xd3\\\\\\x10x\\x82\\x80\\xc0\\x19\\x9f\\xa0\\xe4\\x96#\\x08\\x08\\x9c#\\xa8\\x1a\\x13\\x81\\x86\\t\\x08\\x9c\\xb1au\\xce\\xdd\\x9a\\xc09\\xb7\\xbef\\x87\\xc0/\\x04\\x04\\xce\\xf8\\x0b\\x13\\xbf\\xc8! pr8\\xab\\x82@3\\x04\\x04\\xce\\xd8\\x8c\\x16WkD\\xe0\\\\Mq\\xf3\\xbd<\\x01\\x813^\\xde\\x03U\\x00\\x04N\\x15yu\\x11(\" p\\xc6\"\\xf2\\xca\\n\\x1c\\x1e@\\xe0b\\x04\\x04\\xcex1\\xc5\\xdb\\x99\\xae\\xc0iG\\x0b\\x9d \\x90B@\\xe0\\x8c)\\x9c\\x15\\xf9\\x95\\x80\\xc0\\xf9\\x95\\x89\\xdf pj\\x02\\x02g<\\xb5\\xbe-ON\\xe0\\xb4\\xac\\x8e\\xde\\x108\\x80\\x80\\xc0\\x19\\x0f\\xa0j\\xc8g\\x08\\x08\\x9cg(\\xb9\\x07\\x81\\x06\\tl\\xfd\\x12\\xcd\\xe8\\x97wV\\xa3\\xf8\\xf0\\xe1\\xc3\\xf0\\xf2\\xf22\\xdc\\xcek\\x8e\\x8f\\x1f?\\x0e\\x9f>}\\x1angG\\r\\x01\\x81S\\xc3]U\\x04\\xc2\\x04\\xb6\\x06\\xc7\\xd6\\xa0\\n7\\xbc\\xd3\\x00[\\x83ckP\\xed\\xd4\\xb6a\\xde\\t\\x08\\x1c6@\\xa0S\\x02>\\x1a\\x1b;U\\xee\\xbam\\x0b\\x9c\\xebjo\\xe6\\x9d\\x13\\x108c\\xe7\\n^\\xaf}\\x81s=\\xcd\\xcd\\xf8$\\x04\\x04\\xcex\\x12%\\xaf3\\r\\x81s\\x1d\\xad\\xcd\\xf4d\\x04\\x04\\xcex2E\\xcf?\\x1d\\x81s~\\x8d\\xcd\\xf0\\xa4\\x04\\x04\\xcexRe\\xcf;-\\x81s^m\\xcd\\xec\\xe4\\x04\\x04\\xcexr\\x85\\xcf7=\\x81s>M\\xcd\\xe8\"\\x04\\x04\\xcex\\x11\\xa5\\xcf3M\\x81s\\x1e-\\xcd\\xe4b\\x04\\x04\\xcex1\\xc5\\xfb\\x9f\\xae\\xc0\\xe9_C3\\xb8(\\x01\\x813^T\\xf9~\\xa7-p\\xfa\\xd5N\\xe7\\x17\\' p\\xc6\\x8b;\\xa0\\xbf\\xe9\\x0b\\x9c\\xfe4\\xd31\\x02\\x7f\\x13\\x108#\\'tF@\\xe0t&\\x98v\\x11\\x98\\x08\\x08\\x9cqB\\xe1\\xdc\\t\\x01\\x81\\xd3\\x89P\\xdaD\\xe0\\x91\\x80\\xc0\\x19\\x1f\\x91\\xf8\\xb9q\\x02\\x02\\xa7q\\x81\\xb4\\x87\\xc0\\xef\\x08\\x08\\x9c\\xf1wh\\xfc\\xbeQ\\x02\\x02\\xa7Qa\\xb4u~\\x02\\xd1\\xd7\\x04l}=A5\\xd9\\xe8k\\x02\\xb6\\xbe\\x9e\\xa0z\\xde\\xea{=\\x01\\x0f PF \\x1a\\x18\\xd1\\xc0\\xaa\\x9ax40\\xa2\\x81U5ou\\x05\\x0e\\x0f PF\\xc0Gbc\\x19{\\x85k\\x08\\xf8H\\xad\\x86\\xbb\\xaa\\x08\\x0c\\x02g\\xe4\\x82\\x8b\\x11\\x108\\x17\\x13\\xdct\\xdb! p\\xc6v\\xc4\\xd0I\\n\\x01\\x81\\x93\\x82Y\\x11\\x04~% p\\xc6_\\xa1\\xf8\\xcd\\xa9\\t\\x08\\x9cS\\xcbkr-\\x13\\x108c\\xcb\\xf2\\xe8\\xed\\x00\\x02\\x02\\xe7\\x00\\xa8\\x86D\\xe0\\x19\\x02\\x02g|\\x06\\x93{ND@\\xe0\\x9cHLS\\xe9\\x8b\\x80\\xc0\\x19\\xfb\\x12L\\xb7a\\x02\\x02\\'\\x8c\\xd0\\x00\\x08l# p\\xc6m\\xe0<\\xd5-\\x01\\x81\\xd3\\xadt\\x1a\\xef\\x9d\\x80\\xc0\\x19{\\x97P\\xff+\\t\\x08\\x9c\\x95\\xc0\\xdc\\x8e\\xc0^\\x04\\x04\\xce\\xb8\\x17J\\xe3tB@\\xe0t\"\\x946\\xcfG@\\xe0\\x8c\\xe7\\x13\\xd5\\x8c\\xfe/\\x01\\x81\\xf3\\x7f\\xf1\\xf8C\\x04\\x8e# p\\xc6\\xe3\\xe0\\x1a\\xb9I\\x02\\x02\\xa7IY4u\\x05\\x02\\x02g\\xbc\\x82\\xcc\\xe68# pf0\\\\\"\\x90I@\\xe0\\x8c\\x99\\xb8\\xd5j\\x80\\x80\\xc0i@\\x04-\\xd4\\x10\\xa8\\xfez\\xff\\xe8\\xeb\\tj\\xa8\\rC\\xf4\\xf5\\x00\\xd1\\xd7\\x13T\\xcd[\\xdd8\\x81\\xff\\x02\\x00\\x00\\xff\\xffV\\x0e!H\\x00\\x00\\r\\xa9IDAT\\xed\\xdd\\xe1m\\xe3\\xc8\\x12EaN\\x06\\x0e\\xc1!8\\x84\\xc9\\xc4\\xa1\\x18\\x0e\\xc5\\x91\\x8cCp\\x08\\x0e\\xc1\\x19\\xcc\\xb3\\x1e\\x04.w\\xb1\\x0b\\x98\\xd5\\xed\\xe9\\xbe\\xea\\x8f\\xc0B\\x9c\\x05\\xabY<\\xb7\\xd4\\xc7\\xd0\\x0f\\xe9\\xc7\\xef\\xcfcs \\xb0 \\x81\\xb7\\xb7\\xb7\\xed\\xe5\\xe5e\\xbb\\xbc\\x8e8>>>\\xb6\\xf7\\xf7\\xf7\\xed\\xf2\\x9at<<<l\\x8f\\x8f\\x8f\\xdb\\xe5\\xb5r\\xdc\\xdd\\xddm\\xf7\\xf7\\xf7\\xdb\\xe5\\xd5\\xb1\\x16\\x81\\x1f\\x84\\xb3V\\xe0\\x9e\\xf6/\\x02\\xaf\\xaf\\xaf\\xdb\\xf3\\xf3\\xf3vyu|\\x9d\\xc0\\xcf\\x9f?\\xb7\\xa7\\xa7\\xa7\\xed\\xf2\\xea@\\xe0\\x0c\\x01\\xc29C\\xcb\\xb57E\\x80pjq\\x12N\\x8d\\x9b\\xaam#\\x1cS\\xb0,\\x01\\xc2\\xa9EO85n\\xaa\\x08\\xc7\\x0c,L\\x80pj\\xe1\\x13N\\x8d\\x9b*\\xc21\\x03\\x0b\\x13 \\x9cZ\\xf8\\x84S\\xe3\\xa6\\x8ap\\xcc\\xc0\\xc2\\x04\\x08\\xa7\\x16>\\xe1\\xd4\\xb8\\xa9\"\\x1c3\\xb00\\x01\\xc2\\xa9\\x85O85n\\xaa\\x08\\xc7\\x0c,L\\x80pj\\xe1\\x13N\\x8d\\x9b*\\xc21\\x03\\x0b\\x13 \\x9cZ\\xf8\\x84S\\xe3\\xa6\\x8ap\\xcc\\xc0\\xc2\\x04\\x08\\xa7\\x16>\\xe1\\xd4\\xb8\\xa9\"\\x1c3\\xb00\\x01\\xc2\\xa9\\x85O85n\\xaa\\x08\\xc7\\x0c,L\\x80pj\\xe1\\x13N\\x8d\\x9b*\\xc21\\x03\\x0b\\x13 \\x9cZ\\xf8\\x84S\\xe3\\xa6\\x8ap\\xcc\\xc0\\xc2\\x04\\x08\\xa7\\x16>\\xe1\\xd4\\xb8\\xa9\"\\x1c3\\x10L\\xa0\\xf5\\xeb\\xfdG\\xff<\\xc1(\\xf4\\xad?\\x0f\\xd0\\xfa\\xf3\\x04\\xa3\\x9e\\xdb}\\xc7\\x13\\xf0\\xe5\\x9d\\xe33\\xd0A\\x91@\\xab0Z\\x85Ul{xY\\xab0Z\\x855\\x1c\\x80\\x06\\x86\\x11 \\x9ca\\xe8\\xdd\\xb8\\x95\\x80\\x8f\\xc4j\\x04}$V\\xe3\\xa6\\xaa\\x9d\\x00\\xe1\\xb43\\xb4\\xc2 \\x02\\x84S\\x03O85n\\xaa\\xda\\t\\x10N;C+\\x0c\"@85\\xf0\\x84S\\xe3\\xa6\\xaa\\x9d\\x00\\xe1\\xb43\\xb4\\xc2 \\x02\\x84S\\x03O85n\\xaa\\xda\\t\\x10N;C+\\x0c\"@85\\xf0\\x84S\\xe3\\xa6\\xaa\\x9d\\x00\\xe1\\xb43\\xb4\\xc2 \\x02\\x84S\\x03O85n\\xaa\\xda\\t\\x10N;C+\\x0c\"@85\\xf0\\x84S\\xe3\\xa6\\xaa\\x9d\\x00\\xe1\\xb43\\xb4\\xc2 \\x02\\x84S\\x03O85n\\xaa\\xda\\t\\x10N;C+\\x0c\"@85\\xf0\\x84S\\xe3\\xa6\\xaa\\x9d\\x00\\xe1\\xb43\\xb4\\xc2 \\x02\\x84S\\x03O85n\\xaa\\xda\\t\\x10N;C+\\x0c\"@85\\xf0\\x84S\\xe3\\xa6\\xaa\\x9d\\x00\\xe1\\xb43\\xb4\\xc2 \\x02\\x84S\\x03O85n\\xaa\\xda\\t\\x10N;C+\\x0c\"@85\\xf0\\x84S\\xe3\\xa6\\xaa\\x9d\\x00\\xe1\\xb43\\xb4\\xc2 \\x02\\x84S\\x03O85n\\xaa\\xda\\t\\x10N;\\xc3\\xf8\\x15R\\xbf\\xa6\\xbf\\xf5\\xe7\\t\\xd2\\x83\\xab\\xfeL@\\xeb\\xcf\\x13\\xa4s\\xd3\\xff8\\x02\\x843\\x8e\\xfd4wN\\xdd\\xb8SE\\xd9+\\xf8\\xaa8\\xaa\\xa2\\xea\\xd5\\xb7u\\xd6%@8\\xebf\\xbf?\\xb9\\x8f\\xa6v\\x14Q\\'>\\x1a\\x8b\\x8aK\\xb3\\x9f\\x04\\x08\\xc7\\x18l\\x84\\x939\\x04\\x84\\x93\\x99\\xdb\\xca]\\x13\\xce\\xca\\xe9_\\x9f\\x9dp2\\x87\\x80p2s[\\xb9k\\xc2Y9\\xfd\\xeb\\xb3\\x13N\\xe6\\x10\\x10Nfn+wM8+\\xa7\\x7f}v\\xc2\\xc9\\x1c\\x02\\xc2\\xc9\\xccm\\xe5\\xae\\tg\\xe5\\xf4\\xaf\\xcfN8\\x99C@8\\x99\\xb9\\xad\\xdc5\\xe1\\xac\\x9c\\xfe\\xf5\\xd9\\t\\'s\\x08\\x08\\'3\\xb7\\x95\\xbb&\\x9c\\x95\\xd3\\xbf>;\\xe1d\\x0e\\x01\\xe1d\\xe6\\xb6r\\xd7\\x84\\xb3r\\xfa\\xd7g\\'\\x9c\\xcc! \\x9c\\xcc\\xdcV\\xee\\x9apVN\\xff\\xfa\\xec\\x84\\x939\\x04\\x84\\x93\\x99\\xdb\\xca]\\x13\\xce\\xca\\xe9_\\x9f\\x9dp2\\x87\\x80p2s[\\xb9k\\xc2Y9\\xfd\\xeb\\xb3\\x13N\\xe6\\x10\\x10Nfn+wM87\\x90~\\xeb\\x97X\\xa6~ygzt\\xad_\\xa2Y\\xfd\\xf2\\xcetn\\xfa\\xcf%@8\\xb9\\xd9\\xed\\x9d\\xb7\\n\\xa3UX{#NN\\x11h\\x15F\\xab\\xb0N5\\xebb\\x04:\\x10 \\x9c\\x0e\\x10G/\\xe1#\\xb1\\xd1\\t\\xd4\\xee\\xef#\\xb1\\x1a7U\\xb9\\x04\\x08\\'7\\xbb\\xbds\\xc2\\xd9QD\\x9d\\x10NT\\\\\\x9a\\xed@\\x80p:@\\x1c\\xbd\\x04\\xe1\\x8cN\\xa0v\\x7f\\xc2\\xa9qS\\x95K\\x80pr\\xb3\\xdb;\\'\\x9c\\x1dE\\xd4\\t\\xe1D\\xc5\\xa5\\xd9\\x0e\\x04\\x08\\xa7\\x03\\xc4\\xd1K\\x10\\xce\\xe8\\x04j\\xf7\\'\\x9c\\x1a7U\\xb9\\x04\\x08\\'7\\xbb\\xbds\\xc2\\xd9QD\\x9d\\x10NT\\\\\\x9a\\xed@\\x80p:@\\x1c\\xbd\\x04\\xe1\\x8cN\\xa0v\\x7f\\xc2\\xa9qS\\x95K\\x80pr\\xb3\\xdb;\\'\\x9c\\x1dE\\xd4\\t\\xe1D\\xc5\\xa5\\xd9\\x0e\\x04\\x08\\xa7\\x03\\xc4\\xd1K\\x10\\xce\\xe8\\x04j\\xf7\\'\\x9c\\x1a7U\\xb9\\x04\\x08\\'7\\xbb\\xbds\\xc2\\xd9QD\\x9d\\x10NT\\\\\\x9a\\xed@\\x80p:@\\x1c\\xbd\\x04\\xe1\\x8cN\\xa0v\\x7f\\xc2\\xa9qS\\x95K\\x80pr\\xb3\\xdb;\\'\\x9c\\x1dE\\xd4\\t\\xe1D\\xc5\\xa5\\xd9\\x0e\\x04\\x08\\xa7\\x03\\xc4\\xd1K\\x10\\xce\\xe8\\x04j\\xf7\\'\\x9c\\x1a7U\\xb9\\x04\\x08\\'7\\xbb\\xbds\\xc2\\xd9QD\\x9d\\x10NT\\\\\\x9a\\xed@\\x80p:@\\x1c\\xbd\\x04\\xe1\\xd4\\x12\\x18\\xfd\\xf5\\xfe\\xad?OP{jU\\x08\\x8c#@8\\xe3\\xd8w\\xbb3\\xe1\\xd4P\\x8e\\xde\\xf0G\\x0b\\xafFM\\x15\\x02u\\x02\\x84Sg7M%\\xe1\\xd4\\xa2\\xf0\\x91V\\x8d\\x9b*\\x04\\xaa\\x04\\x08\\xa7Jn\\xa2:\\xc2\\xa9\\x85A85n\\xaa\\x10\\xa8\\x12 \\x9c*\\xb9\\x89\\xea\\x08\\xa7\\x16\\x06\\xe1\\xd4\\xb8\\xa9B\\xa0J\\x80p\\xaa\\xe4&\\xaa#\\x9cZ\\x18\\x84S\\xe3\\xa6\\n\\x81*\\x01\\xc2\\xa9\\x92\\x9b\\xa8\\x8epja\\x10N\\x8d\\x9b*\\x04\\xaa\\x04\\x08\\xa7Jn\\xa2:\\xc2\\xa9\\x85A85n\\xaa\\x10\\xa8\\x12 \\x9c*\\xb9\\x89\\xea\\x08\\xa7\\x16\\x06\\xe1\\xd4\\xb8\\xa9B\\xa0J\\x80p\\xaa\\xe4&\\xaa#\\x9cZ\\x18\\x84S\\xe3\\xa6\\n\\x81*\\x01\\xc2\\xa9\\x92\\x9b\\xa8\\x8epja\\x10N\\x8d\\x9b*\\x04\\xaa\\x04\\x08\\xa7Jn\\xa2:\\xc2\\xa9\\x85A85n\\xaa\\x10\\xa8\\x12 \\x9c*\\xb9\\x89\\xea\\x08\\xa7\\x16\\x06\\xe1\\xd4\\xb8\\xa9B\\xa0J\\x80p\\xaa\\xe4&\\xaa#\\x9cZ\\x18\\x84S\\xe3\\xa6\\n\\x81*\\x01\\xc2\\xa9\\x92\\x9b\\xa8\\x8epja\\x10N\\x8d\\x9b*\\x04\\xaa\\x04\\x08\\xa7Jn\\xa2:\\xc2\\xa9\\x85A85n\\xaa\\x10\\xa8\\x12 \\x9c*\\xb9\\x7f\\xa9\\xfb\\xf8\\xf8\\xd8\\xde\\xdf\\xdf\\xb7\\xcb\\xeb\\x9f<\\xde\\xde\\xde\\xb6\\x97\\x97\\x97\\xed\\xf2\\x9ax\\x8c\\xfa\\x9a\\xfe\\xd1?O\\x90\\x98\\x95\\x9e\\x11h!@8-\\xf4\\xfeQ;j\\xe3\\x1f%\\xba\\x7f<~\\xf9\\x9f\\xa36\\xfeQ\\xa2+\\x83R\\x88@8\\x01\\xc2\\xe9\\x18\\xa0\\x8f\\xb6j0}\\xb4U\\xe3\\xa6\\n\\x814\\x02\\x84\\xd311\\xc2\\xa9\\xc1$\\x9c\\x1a7U\\x08\\xa4\\x11 \\x9c\\x8e\\x89\\x11N\\r&\\xe1\\xd4\\xb8\\xa9B \\x8d\\x00\\xe1tL\\x8cpj0\\t\\xa7\\xc6M\\x15\\x02i\\x04\\x08\\xa7cb\\x84S\\x83I85n\\xaa\\x10H#@8\\x1d\\x13#\\x9c\\x1aL\\xc2\\xa9qS\\x85@\\x1a\\x01\\xc2\\xe9\\x98\\x18\\xe1\\xd4`\\x12N\\x8d\\x9b*\\x04\\xd2\\x08\\x10N\\xc7\\xc4\\x08\\xa7\\x06\\x93pj\\xdcT!\\x90F\\x80p:&F85\\x98\\x84S\\xe3\\xa6\\n\\x814\\x02\\x84\\xd311\\xc2\\xa9\\xc1$\\x9c\\x1a7U\\x08\\xa4\\x11 \\x9c\\x8e\\x89\\x11N\\r&\\xe1\\xd4\\xb8\\xa9B \\x8d\\x00\\xe1tL\\x8cpj0\\t\\xa7\\xc6M\\x15\\x02i\\x04\\x08\\xa7cb\\x84S\\x83I85n\\xaa\\x10H#@8\\x1d\\x13#\\x9c\\x1aL\\xc2\\xa9qS\\x85@\\x1a\\x01\\xc29$\\xd6\\xfa5\\xff\\xa3~\\x9e\\xe0\\xf0\\x08CN[\\xbf\\xe6\\x7f\\xd4\\xcf\\x13\\x0c\\x81\\xe5\\xa6\\x08,L\\x80p\\x0e\\xe1\\xb7\\n\\xa3UX\\x87V\\xa2N[\\x85\\xd1*\\xac(X\\x9aE`a\\x02\\x84s\\x08\\xdfGb\\x07\\x18\\'N}$v\\x02\\x96K\\x11X\\x98\\x00\\xe1\\x1c\\xc2\\'\\x9c\\x03\\x8c\\x13\\xa7\\x84s\\x02\\x96K\\x11X\\x98\\x00\\xe1\\x1c\\xc2\\'\\x9c\\x03\\x8c\\x13\\xa7\\x84s\\x02\\x96K\\x11X\\x98\\x00\\xe1\\x1c\\xc2\\'\\x9c\\x03\\x8c\\x13\\xa7\\x84s\\x02\\x96K\\x11X\\x98\\x00\\xe1\\x1c\\xc2\\'\\x9c\\x03\\x8c\\x13\\xa7\\x84s\\x02\\x96K\\x11X\\x98\\x00\\xe1\\x1c\\xc2\\'\\x9c\\x03\\x8c\\x13\\xa7\\x84s\\x02\\x96K\\x11X\\x98\\x00\\xe1\\x1c\\xc2\\'\\x9c\\x03\\x8c\\x13\\xa7\\x84s\\x02\\x96K\\x11X\\x98\\x00\\xe1\\x1c\\xc2\\'\\x9c\\x03\\x8c\\x13\\xa7\\x84s\\x02\\x96K\\x11X\\x98\\x00\\xe1\\x1c\\xc2\\'\\x9c\\x03\\x8c\\x13\\xa7\\x84s\\x02\\x96K\\x11X\\x98\\x00\\xe1\\x1c\\xc2\\'\\x9c\\x03\\x8c\\x13\\xa7\\x84s\\x02\\x96K\\x11X\\x98\\x00\\xe1\\x1c\\xc2\\'\\x9c\\x03\\x8c\\x13\\xa7\\x84s\\x02\\x96K\\x11X\\x98\\x00\\xe1\\x1c\\xc2\\'\\x9c\\x03\\x8c\\x13\\xa7\\x84s\\x02\\x96K\\x11X\\x98\\x00\\xe1\\x1c\\xc2\\'\\x9c\\x03\\x8c\\x13\\xa7\\xad_\\xdey\\xe2V.E`Y\\x02\\xb7\\xf0%\\xb7\\x84s\\x18_\\xc29\\xc08qz\\x0bo\\x84\\x13\\x8f\\xebR\\x04\\x86\\x10\\xb8\\x89?\\xec~;v\\x02\\xbf~\\xfd\\xfa\\xfd\\xf9\\xf1\\xd0\\xef\\xcfi\\xf2\\x1f\\x06f\\xc0\\x0cL5\\x03\\x97\\xbd\\xe9\\xb2G%\\x1f[r\\xf3\\xbd{\\'\\x1c\\xa2\\xf5\\xc7\\x86\\x19\\x98u\\x06\\x08\\xa7\\xf7\\x8e?x=\\xc2\\xb1\\xd9\\xcc\\xba\\xd9\\xe8\\xcbl\\x12\\xce`A\\xf4\\xbe=\\xe1xS\\xdb\\xd8\\xcd\\xc0\\xac3@8\\xbdw\\xfc\\xc1\\xeb\\x11\\x8e\\xcdf\\xd6\\xcdF_f\\x93p\\x06\\x0b\\xa2\\xf7\\xed\\t\\xc7\\x9b\\xda\\xc6n\\x06f\\x9d\\x01\\xc2\\xe9\\xbd\\xe3\\x0f^\\x8fpl6\\xb3n6\\xfa2\\x9b\\x843X\\x10\\xbdoO8\\xde\\xd46v30\\xeb\\x0c\\x10N\\xef\\x1d\\x7f\\xf0z\\x84c\\xb3\\x99u\\xb3\\xd1\\x97\\xd9$\\x9c\\xc1\\x82\\xe8}{\\xc2\\xf1\\xa6\\xb6\\xb1\\x9b\\x81Yg\\x80pz\\xef\\xf8\\x83\\xd7#\\x1c\\x9b\\xcd\\xac\\x9b\\x8d\\xbe\\xcc&\\xe1\\x0c\\x16D\\xef\\xdb\\x13\\x8e7\\xb5\\x8d\\xdd\\x0c\\xcc:\\x03\\x84\\xd3{\\xc7\\x1f\\xbc\\x1e\\xe1\\xd8lf\\xddl\\xf4e6\\tg\\xb0 z\\xdf\\x9ep\\xbc\\xa9m\\xecf`\\xd6\\x19 \\x9c\\xde;\\xfe\\xe0\\xf5\\x08\\xc7f3\\xebf\\xa3/\\xb3I8\\x83\\x05\\xd1\\xfb\\xf6\\x84\\xe3Mmc7\\x03\\xb3\\xce\\x00\\xe1\\xf4\\xde\\xf1\\x07\\xafG86\\x9bY7\\x1b}\\x99M\\xc2\\x19,\\x88\\xde\\xb7\\'\\x1coj\\x1b\\xbb\\x19\\x98u\\x06\\x08\\xa7\\xf7\\x8e?x=\\xc2\\xb1\\xd9\\xcc\\xba\\xd9\\xe8\\xcbl\\x12\\xce`A\\xf4\\xbe=\\xe1xS\\xdb\\xd8\\xcd\\xc0\\xac3@8\\xbdw\\xfc\\xc1\\xeb\\x11\\x8e\\xcdf\\xd6\\xcdF_f\\x93p\\x06\\x0b\\xa2\\xf7\\xed\\t\\xc7\\x9b\\xda\\xc6n\\x06f\\x9d\\x01\\xc2\\xe9\\xbd\\xe3\\x0f^\\x8fpl6\\xb3n6\\xfa2\\x9b\\x843X\\x10\\xbdoO8\\xde\\xd46v30\\xeb\\x0c\\x10N\\xef\\x1d\\x7f\\xf0z\\x84c\\xb3\\x99u\\xb3\\xd1\\x97\\xd9$\\x9c\\xc1\\x82\\xe8}{\\xc2\\xf1\\xa6\\xb6\\xb1\\x9b\\x81Yg\\x80pz\\xef\\xf8\\x83\\xd7#\\x1c\\x9b\\xcd\\xac\\x9b\\x8d\\xbe\\xcc&\\xe1\\x0c\\x16D\\xef\\xdb\\x13\\x8e7\\xb5\\x8d\\xdd\\x0c\\xcc:\\x03\\x84\\xd3{\\xc7\\x1f\\xbc\\x1e\\xe1\\xd8lf\\xddl\\xf4e6\\tg\\xb0 z\\xdf\\x9ep\\xbc\\xa9m\\xecf`\\xd6\\x19\\xb8\\x05\\xe1\\xfc\\xb8l\\xda\\x9f\\x80\\x1d\\x9f\\x04\\xde\\xde\\xde\\xb6\\x97\\x97\\x97\\xff\\xbf\\x02\\x82\\xc0\\xec\\x04>>>\\xb6\\xf7\\xf7\\xf7\\xed\\xf2\\xea\\xb8}\\x02\\x9f\\xc2\\xd9\\x9e\\x9e\\x9e\\xb6\\xcbk\\xeaA8\\x87\\xe4\\xbc\\x81\\x0f0\\x9cNO\\xc0\\x1fH\\xd3G\\xd4\\xb5A\\xc2\\xe9\\x8a\\xd3b\\x08 p\\x86\\xc0\\xeb\\xeb\\xeb\\xf6\\xfc\\xfc\\xbc]^\\x1d\\xb7O\\x80pn?cO\\x88\\xc0\\xb4\\x04\\x08g\\xdah\\xbe\\xa51\\xc2\\xf9\\x16\\xac\\x16E\\x00\\x81\\xaf\\x10 \\x9c\\xafP\\xba\\x9dk\\x08\\xe7v\\xb2\\xf4$\\x08\\xc4\\x11 \\x9c\\xb8\\xc8\\x9a\\x1a&\\x9c&|\\x8a\\x11@\\xa0\\x85\\x00\\xe1\\xb4\\xd0\\xcb\\xab%\\x9c\\xbc\\xcct\\x8c\\xc0\\xcd\\x10 \\x9c\\x9b\\x89\\xf2K\\x0fB8_\\xc2\\xe4\"\\x04\\x10\\xf8\\x0e\\x02\\x84\\xf3\\x1dT\\xe7]\\x93p\\xe6\\xcdFg\\x08\\xdc<\\x01\\xc2\\xb9\\xf9\\x88\\xff\\xf6\\x80\\x84\\xf37\\x1c\\xfe\\x81\\x00\\x02\\x7f\\x92\\x00\\xe1\\xfcI\\xda\\xe3\\xefE8\\xe33\\xd0\\x01\\x02\\xcb\\x12 \\x9c\\xb5\\xa2\\'\\x9c\\xb5\\xf2\\xf6\\xb4\\x08LE\\x80p\\xa6\\x8a\\xe3\\xdb\\x9b!\\x9coG\\xec\\x06\\x08 \\xf0_\\x04\\x08\\xe7\\xbf\\xc8\\xdc\\xe6\\xff\\'\\x9c\\xdb\\xcc\\xd5S!\\x10A\\x80p\"b\\xea\\xd6$\\xe1tCi!\\x04\\x108K\\x80p\\xce\\x12\\xcb\\xbe\\x9ep\\xb2\\xf3\\xd3=\\x02\\xd1\\x04\\xfc<At|\\xa7\\x9b\\x7fxx\\xd8\\x1e\\x1f\\x1f\\xb7\\xcbk\\xea\\xe1\\xf7pR\\x93\\xd3\\xf7\\xf2\\x04\\xfc~\\xd3Z#pww\\xb7\\xdd\\xdf\\xdfo\\x97\\xd7\\xd4\\x83pR\\x93\\xd37\\x02\\x08 \\x10F\\x80p\\xc2\\x02\\xd3.\\x02\\x08 \\x90J\\x80pR\\x93\\xd37\\x02\\x08 \\x10F\\x80p\\xc2\\x02\\xd3.\\x02\\x08 \\x90J\\x80pR\\x93\\xd37\\x02\\x08 \\x10F\\x80p\\xc2\\x02\\xd3.\\x02\\x08 \\x90J\\x80pR\\x93\\xd37\\x02\\x08 \\x10F\\x80p\\xc2\\x02\\xd3.\\x02\\x08 \\x90J\\x80pR\\x93\\xd37\\x02\\x08 \\x10F\\x80p\\xc2\\x02\\xd3.\\x02\\x08 \\x90J\\x80pR\\x93\\xd37\\x02\\x08 \\x10F\\x80p\\xc2\\x02\\xd3.\\x02\\x08 \\x90J\\x80pR\\x93\\xd37\\x02\\x08 \\x10F\\x80p\\xc2\\x02\\xd3.\\x02\\x08 \\x90J\\x80pR\\x93\\xd37\\x02\\x08 \\x10F\\x80p\\xc2\\x02\\xd3.\\x02\\x08 \\x90J\\x80pR\\x93\\xd37\\x02\\x08 \\x10F\\x80p\\xc2\\x02\\xd3.\\x02\\x08 \\x90J\\x80pR\\x93\\xd37\\x02\\x08 \\x10F\\x80p\\xc2\\x02\\xd3.\\x02\\x08 \\x90J\\x80pR\\x93\\xd37\\x02\\x08 \\x10F\\x80p\\xc2\\x02\\xd3.\\x02\\x08 \\x90J\\x80pR\\x93\\xd37\\x02\\x08 \\x10F\\x80p\\xc2\\x02\\xd3.\\x02\\x08 \\x90J\\x80pR\\x93\\xd37\\x02\\x08 \\x10F\\x80p\\xc2\\x02\\xd3.\\x02\\x08 \\x90J\\x80pR\\x93\\xd37\\x02\\x08 \\x10F\\x80p\\xc2\\x02\\xd3.\\x02\\x08 \\x90J\\x80pR\\x93\\xd37\\x02\\x08 \\x10F\\x80p\\xc2\\x02\\xd3.\\x02\\x08 \\x90J\\x80pR\\x93\\xd37\\x02\\x08 \\x10F\\x80p\\xc2\\x02\\xd3.\\x02\\x08 \\x90J\\x80pR\\x93\\xd37\\x02\\x08 \\x10F\\x80p\\xc2\\x02\\xd3.\\x02\\x08 \\x90J\\x80pR\\x93\\xd37\\x02\\x08 \\x10F\\x80p\\xc2\\x02\\xd3.\\x02\\x08 \\x90J\\x80pR\\x93\\xd37\\x02\\x08 \\x10F\\x80p\\xc2\\x02\\xd3.\\x02\\x08 \\x90J\\x80pR\\x93\\xd37\\x02\\x08 \\x10F\\x80p\\xc2\\x02\\xd3.\\x02\\x08 \\x90J\\x80pR\\x93\\xd37\\x02\\x08 \\x10F\\x80p\\xc2\\x02\\xd3.\\x02\\x08 \\x90J\\x80pR\\x93\\xd37\\x02\\x08 \\x10F\\x80p\\xc2\\x02\\xd3.\\x02\\x08 \\x90J\\x80pR\\x93\\xd37\\x02\\x08 \\x10F\\x80p\\xc2\\x02\\xd3.\\x02\\x08 \\x90J\\x80pR\\x93\\xd37\\x02\\x08 \\x10F\\x80p\\xc2\\x02\\xd3.\\x02\\x08 \\x90J\\x80pR\\x93\\xd37\\x02\\x08 \\x10F\\xe0\\x7f\\xfe\\xeb\\xeby\\xa0I\\x8a\\xf2\\x00\\x00\\x00\\x00IEND\\xaeB`\\x82'}"
            ]
          },
          "metadata": {
            "tags": []
          },
          "execution_count": 30
        }
      ]
    },
    {
      "cell_type": "markdown",
      "metadata": {
        "id": "2rXNsnTnMLJO",
        "colab_type": "text"
      },
      "source": [
        "Проверяем загрузку картинки"
      ]
    },
    {
      "cell_type": "code",
      "metadata": {
        "id": "v3y6wbi-MNqs",
        "colab_type": "code",
        "outputId": "f72479cd-b9ec-4efe-defe-853332cebd14",
        "colab": {
          "base_uri": "https://localhost:8080/",
          "height": 34
        }
      },
      "source": [
        "!ls"
      ],
      "execution_count": 0,
      "outputs": [
        {
          "output_type": "stream",
          "text": [
            "Digit_2.png  mnist_dense.h5  sample_data\n"
          ],
          "name": "stdout"
        }
      ]
    },
    {
      "cell_type": "markdown",
      "metadata": {
        "id": "F8HQI_X5MUms",
        "colab_type": "text"
      },
      "source": [
        "Загружаем картинку из файла"
      ]
    },
    {
      "cell_type": "code",
      "metadata": {
        "id": "Zfi4L4iYMTLE",
        "colab_type": "code",
        "colab": {}
      },
      "source": [
        "#Указывает путь к файлу\n",
        "img_path = 'Digit_2.png'\n",
        "#Загружаем картинку, меняем размер на 28х28, формат на оттенки серого\n",
        "img = image.load_img(img_path, target_size=(28, 28), color_mode = \"grayscale\")"
      ],
      "execution_count": 0,
      "outputs": []
    },
    {
      "cell_type": "markdown",
      "metadata": {
        "id": "c2yCw9y1QSL1",
        "colab_type": "text"
      },
      "source": [
        "Показываем картинку"
      ]
    },
    {
      "cell_type": "code",
      "metadata": {
        "id": "BNW4bWUYP8Rt",
        "colab_type": "code",
        "outputId": "f5b0141c-6e79-4dc1-e489-7a83c87322b6",
        "colab": {
          "base_uri": "https://localhost:8080/",
          "height": 265
        }
      },
      "source": [
        "#Выводим картинку\n",
        "plt.imshow(img.convert('RGBA'))\n",
        "plt.show()"
      ],
      "execution_count": 0,
      "outputs": [
        {
          "output_type": "display_data",
          "data": {
            "image/png": "[encoded data removed]",
            "text/plain": [
              "<Figure size 432x288 with 1 Axes>"
            ]
          },
          "metadata": {
            "tags": []
          }
        }
      ]
    },
    {
      "cell_type": "markdown",
      "metadata": {
        "id": "2fHqp8KbOsJd",
        "colab_type": "text"
      },
      "source": [
        "Преобразуем картинку для обработки нейронной сетью"
      ]
    },
    {
      "cell_type": "code",
      "metadata": {
        "id": "0xsuR1vDNihN",
        "colab_type": "code",
        "colab": {}
      },
      "source": [
        "#Преобразуем картинку в массив\n",
        "x = image.img_to_array(img)\n",
        "#Меняем форму массива в плоский вектор\n",
        "x = x.reshape(1, 784)\n",
        "#Инвертируем изображение, нам надо белое на чёрном фоне\n",
        "x = 255 - x\n",
        "#Нормализуем изображение\n",
        "x /= 255"
      ],
      "execution_count": 0,
      "outputs": []
    },
    {
      "cell_type": "markdown",
      "metadata": {
        "id": "OYpe-m2bNR-8",
        "colab_type": "text"
      },
      "source": [
        "Запускаем распознавание"
      ]
    },
    {
      "cell_type": "code",
      "metadata": {
        "id": "jTUbtYAPNI60",
        "colab_type": "code",
        "colab": {}
      },
      "source": [
        "#Распознаём картинку\n",
        "prediction = model.predict(x)"
      ],
      "execution_count": 0,
      "outputs": []
    },
    {
      "cell_type": "markdown",
      "metadata": {
        "id": "gdDM5wzcRRql",
        "colab_type": "text"
      },
      "source": [
        "Результаты распознавания"
      ]
    },
    {
      "cell_type": "code",
      "metadata": {
        "id": "4qbu45hIMQvk",
        "colab_type": "code",
        "outputId": "c964cf58-65f8-4cd1-b897-7b8ceeac291d",
        "colab": {
          "base_uri": "https://localhost:8080/",
          "height": 68
        }
      },
      "source": [
        "#Выводим результат\n",
        "prediction"
      ],
      "execution_count": 0,
      "outputs": [
        {
          "output_type": "execute_result",
          "data": {
            "text/plain": [
              "array([[0.0000000e+00, 4.8511620e-33, 1.0000000e+00, 1.5919799e-20,\n",
              "        0.0000000e+00, 0.0000000e+00, 0.0000000e+00, 3.9951747e-35,\n",
              "        3.3649753e-38, 0.0000000e+00]], dtype=float32)"
            ]
          },
          "metadata": {
            "tags": []
          },
          "execution_count": 36
        }
      ]
    },
    {
      "cell_type": "code",
      "metadata": {
        "id": "iOwGOz41PNsV",
        "colab_type": "code",
        "outputId": "afebe960-e1c8-44a8-d4bc-78fa12a052f0",
        "colab": {
          "base_uri": "https://localhost:8080/",
          "height": 34
        }
      },
      "source": [
        "#Выводим распознанную цифру\n",
        "print(np.argmax(prediction))"
      ],
      "execution_count": 0,
      "outputs": [
        {
          "output_type": "stream",
          "text": [
            "2\n"
          ],
          "name": "stdout"
        }
      ]
    },
    {
      "cell_type": "markdown",
      "metadata": {
        "id": "tkHPcwWNY6dm",
        "colab_type": "text"
      },
      "source": [
        "#Функция быстрого теста сети"
      ]
    },
    {
      "cell_type": "code",
      "metadata": {
        "id": "Mz3XwuSTZqpq",
        "colab_type": "code",
        "colab": {}
      },
      "source": [
        "#Функция генерации нейронки\n",
        "#neoronsL1 - нейронов в первом слое\n",
        "#neuronsL2 - нейронов в втором слое, 0 - если не делать слой\n",
        "#neuronsL3 - нейронов в третьем слое, 0 - если не делать слой\n",
        "#innerActivation - активационная функция скрытых слоёв\n",
        "#outputActivation - активационная функция выходного слоя\n",
        "def createNet(neoronsL1, neuronsL2, neuronsL3, innerActivation, outputActivation):\n",
        "  model = Sequential() #Создаём сеть\n",
        "  model.add(Dense(neoronsL1, input_dim=784, activation=innerActivation)) #Добавляем первый слой\n",
        "  \n",
        "  #Если число второго слоя > 0\n",
        "  #Создаём второй слой\n",
        "  if (neuronsL2 > 0):\n",
        "    model.add(Dense(neuronsL2, activation=innerActivation))\n",
        "  \n",
        "  #Если число третьего слоя > 0\n",
        "  #Создаём третий слой\n",
        "  if (neuronsL3 > 0):\n",
        "    model.add(Dense(neuronsL3, activation=innerActivation))\n",
        "    \n",
        "  #Создаём выходной слой\n",
        "  model.add(Dense(10, activation=outputActivation))\n",
        "  \n",
        "  #Компилируем сеть\n",
        "  model.compile(loss=\"categorical_crossentropy\", optimizer=\"adam\", metrics=[\"accuracy\"])\n",
        "  \n",
        "  #Возвращаем созданную сеть\n",
        "  return model\n",
        "\n",
        "#Обучаем и тестируем сеть\n",
        "#Net - лист с 5 параметрами сети\n",
        "#batch_size - размер батча\n",
        "#epochs - число эпох обучения\n",
        "#iterations - число запусков сети\n",
        "def testModel(net, batch_size, epochs, iterations):\n",
        "  acc = [] #Лист с точностями на проверочной выборке по каждому запуску\n",
        "  \n",
        "  #Запускаем iterations раз сеть\n",
        "  for i in range(iterations):\n",
        "    #Создаём сеть\n",
        "    model = createNet(net[0], net[1], net[2], net[3], net[4])\n",
        "    #Обучаем сеть\n",
        "    history = model.fit(x_train, y_train, batch_size=batch_size, epochs=epochs, verbose=0, validation_split=0.2)\n",
        "    #Добавляем в лист точность на проверочной выборке на последней итерации\n",
        "    acc.append(history.history[\"val_acc\"][-1])\n",
        "  \n",
        "  #Возвращаем лист точностей\n",
        "  return model, acc"
      ],
      "execution_count": 0,
      "outputs": []
    },
    {
      "cell_type": "code",
      "metadata": {
        "id": "8ZUVXlVzcX_J",
        "colab_type": "code",
        "outputId": "c82fc875-bc88-488c-afc4-40a880d5d594",
        "colab": {
          "base_uri": "https://localhost:8080/",
          "height": 34
        }
      },
      "source": [
        "#Запускаем тест одной нейронки 100 раз\n",
        "model, acc = testModel([800,0,0,'relu','softmax'], 200, 10, 3)\n",
        "print(acc)"
      ],
      "execution_count": 46,
      "outputs": [
        {
          "output_type": "stream",
          "text": [
            "[0.97625, 0.97866666, 0.9798333]\n"
          ],
          "name": "stdout"
        }
      ]
    },
    {
      "cell_type": "code",
      "metadata": {
        "id": "wVHycdJygOrt",
        "colab_type": "code",
        "colab": {
          "base_uri": "https://localhost:8080/",
          "height": 34
        },
        "outputId": "42cfb6d3-6c67-4c2d-a7b0-18b3cb4bd0c1"
      },
      "source": [
        "get_test_accuracy(model)"
      ],
      "execution_count": 51,
      "outputs": [
        {
          "output_type": "execute_result",
          "data": {
            "text/plain": [
              "0.9802"
            ]
          },
          "metadata": {
            "tags": []
          },
          "execution_count": 51
        }
      ]
    },
    {
      "cell_type": "code",
      "metadata": {
        "id": "tbePSGZCdFp3",
        "colab_type": "code",
        "outputId": "ba3e2478-dc38-4f2e-ee01-6354516f6d37",
        "colab": {
          "base_uri": "https://localhost:8080/",
          "height": 85
        }
      },
      "source": [
        "#Отображаем результаты\n",
        "print(\"Точность на всех запусках: \", [round(a,4) for a in acc])\n",
        "print(\"Среднее значение точности: \", round(sum(acc)/len(acc), 4))\n",
        "print(\"Амплитуда разброса точности: \", round(max(acc) - min(acc), 4))\n",
        "print(\"Среднеквадратичное отклонение точности: \", round(np.array(acc).std(),6))"
      ],
      "execution_count": 47,
      "outputs": [
        {
          "output_type": "stream",
          "text": [
            "Точность на всех запусках:  [0.9762, 0.9787, 0.9798]\n",
            "Среднее значение точности:  0.9782\n",
            "Амплитуда разброса точности:  0.0036\n",
            "Среднеквадратичное отклонение точности:  0.001492\n"
          ],
          "name": "stdout"
        }
      ]
    },
    {
      "cell_type": "code",
      "metadata": {
        "id": "lE_0ZE4aeFQs",
        "colab_type": "code",
        "outputId": "12d3f627-40d1-431b-814f-53edf6ed3151",
        "colab": {
          "base_uri": "https://localhost:8080/",
          "height": 265
        }
      },
      "source": [
        "#Строим гистограмму точности сети\n",
        "plt.hist(acc, 8)\n",
        "plt.show()"
      ],
      "execution_count": 48,
      "outputs": [
        {
          "output_type": "display_data",
          "data": {
            "image/png": "[encoded data removed]",
            "text/plain": [
              "<Figure size 432x288 with 1 Axes>"
            ]
          },
          "metadata": {
            "tags": []
          }
        }
      ]
    },
    {
      "cell_type": "markdown",
      "metadata": {
        "id": "Vb4sndlyWn0Y",
        "colab_type": "text"
      },
      "source": [
        "**Генерируем и тестируем нейронки**"
      ]
    },
    {
      "cell_type": "code",
      "metadata": {
        "id": "Qe5w8lM3RrEs",
        "colab_type": "code",
        "colab": {}
      },
      "source": [
        "#Создаём 5 различных сетей\n",
        "net = []\n",
        "net.append([800, 0, 0, 'relu', 'softmax'])\n",
        "net.append([400, 0, 0, 'relu', 'softmax'])\n",
        "net.append([400, 400, 0, 'relu', 'softmax'])\n",
        "net.append([800, 0, 0, 'linear', 'softmax'])\n",
        "net.append([800, 0, 0, 'relu', 'sigmoid'])"
      ],
      "execution_count": 0,
      "outputs": []
    },
    {
      "cell_type": "code",
      "metadata": {
        "id": "4wj0ldKWXAqa",
        "colab_type": "code",
        "outputId": "3a26274c-8212-4e38-fbfc-1483e2e54ccc",
        "colab": {
          "base_uri": "https://localhost:8080/",
          "height": 173
        }
      },
      "source": [
        "#Обучаем каждую сеть и выводим среднюю точность на проверочной выборке по 3 запускам\n",
        "for currNet in net:\n",
        "  acc = testModel(net = currNet, batch_size = 200, epochs = 10, iterations = 3)\n",
        "  print(currNet, round(sum(acc)/len(acc),4))"
      ],
      "execution_count": 0,
      "outputs": [
        {
          "output_type": "stream",
          "text": [
            "[800, 0, 0, 'relu', 'softmax'] 0.9799\n",
            "[400, 0, 0, 'relu', 'softmax'] 0.9775\n",
            "[400, 400, 0, 'relu', 'softmax'] 0.9763\n",
            "[800, 0, 0, 'linear', 'softmax'] 0.922\n",
            "WARNING:tensorflow:From /usr/local/lib/python3.6/dist-packages/tensorflow_core/python/ops/math_grad.py:1424: where (from tensorflow.python.ops.array_ops) is deprecated and will be removed in a future version.\n",
            "Instructions for updating:\n",
            "Use tf.where in 2.0, which has the same broadcast rule as np.where\n",
            "[800, 0, 0, 'relu', 'sigmoid'] 0.0995\n"
          ],
          "name": "stdout"
        }
      ]
    },
    {
      "cell_type": "code",
      "metadata": {
        "id": "7Wp5BYvOUEw1",
        "colab_type": "code",
        "colab": {}
      },
      "source": [
        "def get_test_accuracy(model_in):  \n",
        "  list_result = []\n",
        "  for i in range(x_test.shape[0]):\n",
        "    #Выбираем нужную картинку из тестовой выборки\n",
        "    x = x_test[i]\n",
        "    #Добавляем одну размерность в конце, чтобы нейронка могла распознать пример\n",
        "    #Потому что нейронка принимает именно массов примеров для распознавания\n",
        "    #Мы делаем массив из одного примеры\n",
        "    x = np.expand_dims(x, axis=0)\n",
        "    #Распознаём наш пример\n",
        "    prediction = model_in.predict(x)\n",
        "    #Проверяем результат предсказания по тествой выборке\n",
        "    result = np.argmax(y_test[i]) == np.argmax(prediction)\n",
        "    #Заносим результат проверки в список\n",
        "    list_result.append(result)\n",
        "    #Считаем точность на тестовой выборке\n",
        "    test_accuracy = round(sum(list_result)/len(list_result),4)\n",
        "  #print(test_accuracy)\n",
        "  return test_accuracy"
      ],
      "execution_count": 0,
      "outputs": []
    },
    {
      "cell_type": "code",
      "metadata": {
        "id": "3GDkDV_RQf0A",
        "colab_type": "code",
        "colab": {}
      },
      "source": [
        "import warnings\n",
        "warnings.filterwarnings(\"ignore\")"
      ],
      "execution_count": 0,
      "outputs": []
    },
    {
      "cell_type": "code",
      "metadata": {
        "id": "SREouyJ1jsMJ",
        "colab_type": "code",
        "colab": {}
      },
      "source": [
        "list_test_net = []"
      ],
      "execution_count": 0,
      "outputs": []
    },
    {
      "cell_type": "code",
      "metadata": {
        "id": "VW4eCPsxQgCb",
        "colab_type": "code",
        "colab": {}
      },
      "source": [
        "#Создаём 10 различных сетей с одним внутренним слоем\n",
        "net = []\n",
        "net.append([25, 0, 0, 'relu', 'softmax'])\n",
        "net.append([50, 0, 0, 'relu', 'softmax'])\n",
        "net.append([100, 0, 0, 'relu', 'softmax'])\n",
        "net.append([200, 0, 0, 'relu', 'softmax'])\n",
        "net.append([400, 0, 0, 'relu', 'softmax'])\n",
        "net.append([800, 0, 0, 'relu', 'softmax'])\n",
        "net.append([1600, 0, 0, 'relu', 'softmax'])\n",
        "net.append([3200, 0, 0, 'relu', 'softmax'])\n",
        "net.append([6400, 0, 0, 'relu', 'softmax'])\n",
        "net.append([12800, 0, 0, 'relu', 'softmax'])"
      ],
      "execution_count": 0,
      "outputs": []
    },
    {
      "cell_type": "code",
      "metadata": {
        "id": "tXbOTOsARA1W",
        "colab_type": "code",
        "colab": {
          "base_uri": "https://localhost:8080/",
          "height": 187
        },
        "outputId": "4462ceb1-8acd-4bf0-ae16-4a59932494ab"
      },
      "source": [
        "#Обучаем каждую сеть и выводим среднюю точность на проверочной выборке по 3 запускам\n",
        "for currNet in net:\n",
        "  model, acc = testModel(net = currNet, batch_size = 200, epochs = 10, iterations = 3)\n",
        "  test_accuracy = get_test_accuracy(model)\n",
        "  list_test_net.append([currNet, 'train_acc = ', round(sum(acc)/len(acc),4), 'test_acc = ',test_accuracy])\n",
        "  print(list_test_net[-1])"
      ],
      "execution_count": 62,
      "outputs": [
        {
          "output_type": "stream",
          "text": [
            "[[25, 0, 0, 'relu', 'softmax'], 'train_acc = ', 0.9513, 'test_acc = ', 0.9509]\n",
            "[[50, 0, 0, 'relu', 'softmax'], 'train_acc = ', 0.9634, 'test_acc = ', 0.961]\n",
            "[[100, 0, 0, 'relu', 'softmax'], 'train_acc = ', 0.9707, 'test_acc = ', 0.9719]\n",
            "[[200, 0, 0, 'relu', 'softmax'], 'train_acc = ', 0.9761, 'test_acc = ', 0.978]\n",
            "[[400, 0, 0, 'relu', 'softmax'], 'train_acc = ', 0.9767, 'test_acc = ', 0.9788]\n",
            "[[800, 0, 0, 'relu', 'softmax'], 'train_acc = ', 0.9792, 'test_acc = ', 0.9804]\n",
            "[[1600, 0, 0, 'relu', 'softmax'], 'train_acc = ', 0.9801, 'test_acc = ', 0.9803]\n",
            "[[3200, 0, 0, 'relu', 'softmax'], 'train_acc = ', 0.9803, 'test_acc = ', 0.9804]\n",
            "[[6400, 0, 0, 'relu', 'softmax'], 'train_acc = ', 0.9794, 'test_acc = ', 0.9826]\n",
            "[[12800, 0, 0, 'relu', 'softmax'], 'train_acc = ', 0.9771, 'test_acc = ', 0.9768]\n"
          ],
          "name": "stdout"
        }
      ]
    },
    {
      "cell_type": "code",
      "metadata": {
        "id": "ODyY-tdMTZcB",
        "colab_type": "code",
        "colab": {}
      },
      "source": [
        "#Создаём 10 различных сетей с двумя внутренним слоями\n",
        "net = []\n",
        "net.append([25, 25, 0, 'relu', 'softmax'])\n",
        "net.append([50, 50, 0, 'relu', 'softmax'])\n",
        "net.append([100, 100, 0, 'relu', 'softmax'])\n",
        "net.append([200, 200, 0, 'relu', 'softmax'])\n",
        "net.append([400, 400, 0, 'relu', 'softmax'])\n",
        "net.append([800, 800, 0, 'relu', 'softmax'])\n",
        "net.append([1600, 1600, 0, 'relu', 'softmax'])\n",
        "net.append([3200, 3200, 0, 'relu', 'softmax'])\n",
        "net.append([6400, 6400, 0, 'relu', 'softmax'])\n",
        "net.append([12800, 12800, 0, 'relu', 'softmax'])"
      ],
      "execution_count": 0,
      "outputs": []
    },
    {
      "cell_type": "code",
      "metadata": {
        "id": "VlOpTMkByp-B",
        "colab_type": "code",
        "colab": {
          "base_uri": "https://localhost:8080/",
          "height": 187
        },
        "outputId": "a4bb76b1-cd5c-4b34-ce94-f8dba41d4e9a"
      },
      "source": [
        "#Обучаем каждую сеть и выводим среднюю точность на проверочной выборке по 3 запускам\n",
        "for currNet in net:\n",
        "  model, acc = testModel(net = currNet, batch_size = 200, epochs = 10, iterations = 3)\n",
        "  test_accuracy = get_test_accuracy(model)\n",
        "  list_test_net.append([currNet, 'train_acc = ', round(sum(acc)/len(acc),4), 'test_acc = ',test_accuracy])\n",
        "  print(list_test_net[-1])"
      ],
      "execution_count": 64,
      "outputs": [
        {
          "output_type": "stream",
          "text": [
            "[[25, 25, 0, 'relu', 'softmax'], 'train_acc = ', 0.9564, 'test_acc = ', 0.9584]\n",
            "[[50, 50, 0, 'relu', 'softmax'], 'train_acc = ', 0.9665, 'test_acc = ', 0.9651]\n",
            "[[100, 100, 0, 'relu', 'softmax'], 'train_acc = ', 0.9731, 'test_acc = ', 0.9764]\n",
            "[[200, 200, 0, 'relu', 'softmax'], 'train_acc = ', 0.9747, 'test_acc = ', 0.9787]\n",
            "[[400, 400, 0, 'relu', 'softmax'], 'train_acc = ', 0.9767, 'test_acc = ', 0.9803]\n",
            "[[800, 800, 0, 'relu', 'softmax'], 'train_acc = ', 0.9778, 'test_acc = ', 0.98]\n",
            "[[1600, 1600, 0, 'relu', 'softmax'], 'train_acc = ', 0.9766, 'test_acc = ', 0.9757]\n",
            "[[3200, 3200, 0, 'relu', 'softmax'], 'train_acc = ', 0.9746, 'test_acc = ', 0.9771]\n",
            "[[6400, 6400, 0, 'relu', 'softmax'], 'train_acc = ', 0.9771, 'test_acc = ', 0.9759]\n",
            "[[12800, 12800, 0, 'relu', 'softmax'], 'train_acc = ', 0.9781, 'test_acc = ', 0.9793]\n"
          ],
          "name": "stdout"
        }
      ]
    },
    {
      "cell_type": "code",
      "metadata": {
        "id": "UvIwBunI5kSi",
        "colab_type": "code",
        "colab": {}
      },
      "source": [
        "#Создаём 10 различных сетей с тремя внутренним слоями\n",
        "net = []\n",
        "net.append([25, 25, 25, 'relu', 'softmax'])\n",
        "net.append([50, 50, 25, 'relu', 'softmax'])\n",
        "net.append([100, 100, 100, 'relu', 'softmax'])\n",
        "net.append([200, 200, 200, 'relu', 'softmax'])\n",
        "net.append([400, 400, 400, 'relu', 'softmax'])\n",
        "net.append([800, 800, 800, 'relu', 'softmax'])\n",
        "net.append([1600, 1600, 1600, 'relu', 'softmax'])\n",
        "net.append([3200, 3200, 3200, 'relu', 'softmax'])\n",
        "net.append([6400, 6400, 6400, 'relu', 'softmax'])\n",
        "net.append([12800, 12800, 12800, 'relu', 'softmax'])"
      ],
      "execution_count": 0,
      "outputs": []
    },
    {
      "cell_type": "code",
      "metadata": {
        "id": "tP1o2_Hu6jx9",
        "colab_type": "code",
        "colab": {
          "base_uri": "https://localhost:8080/",
          "height": 286
        },
        "outputId": "b2f941cf-e10b-4b48-fcf5-d9c5c6c60693"
      },
      "source": [
        "#Обучаем каждую сеть и выводим среднюю точность на проверочной выборке по 3 запускам\n",
        "for currNet in net:\n",
        "  model, acc = testModel(net = currNet, batch_size = 200, epochs = 10, iterations = 3)\n",
        "  test_accuracy = get_test_accuracy(model)\n",
        "  list_test_net.append([currNet, 'train_acc = ', round(sum(acc)/len(acc),4), 'test_acc = ',test_accuracy])\n",
        "  print(list_test_net[-1])"
      ],
      "execution_count": 10,
      "outputs": [
        {
          "output_type": "stream",
          "text": [
            "WARNING:tensorflow:From /usr/local/lib/python3.6/dist-packages/tensorflow_core/python/ops/resource_variable_ops.py:1630: calling BaseResourceVariable.__init__ (from tensorflow.python.ops.resource_variable_ops) with constraint is deprecated and will be removed in a future version.\n",
            "Instructions for updating:\n",
            "If using Keras pass *_constraint arguments to layers.\n"
          ],
          "name": "stdout"
        },
        {
          "output_type": "error",
          "ename": "NameError",
          "evalue": "ignored",
          "traceback": [
            "\u001b[0;31m---------------------------------------------------------------------------\u001b[0m",
            "\u001b[0;31mNameError\u001b[0m                                 Traceback (most recent call last)",
            "\u001b[0;32m<ipython-input-10-a6f409252b73>\u001b[0m in \u001b[0;36m<module>\u001b[0;34m()\u001b[0m\n\u001b[1;32m      2\u001b[0m   \u001b[0mmodel\u001b[0m\u001b[0;34m,\u001b[0m \u001b[0macc\u001b[0m \u001b[0;34m=\u001b[0m \u001b[0mtestModel\u001b[0m\u001b[0;34m(\u001b[0m\u001b[0mnet\u001b[0m \u001b[0;34m=\u001b[0m \u001b[0mcurrNet\u001b[0m\u001b[0;34m,\u001b[0m \u001b[0mbatch_size\u001b[0m \u001b[0;34m=\u001b[0m \u001b[0;36m200\u001b[0m\u001b[0;34m,\u001b[0m \u001b[0mepochs\u001b[0m \u001b[0;34m=\u001b[0m \u001b[0;36m10\u001b[0m\u001b[0;34m,\u001b[0m \u001b[0miterations\u001b[0m \u001b[0;34m=\u001b[0m \u001b[0;36m3\u001b[0m\u001b[0;34m)\u001b[0m\u001b[0;34m\u001b[0m\u001b[0;34m\u001b[0m\u001b[0m\n\u001b[1;32m      3\u001b[0m   \u001b[0mtest_accuracy\u001b[0m \u001b[0;34m=\u001b[0m \u001b[0mget_test_accuracy\u001b[0m\u001b[0;34m(\u001b[0m\u001b[0mmodel\u001b[0m\u001b[0;34m)\u001b[0m\u001b[0;34m\u001b[0m\u001b[0;34m\u001b[0m\u001b[0m\n\u001b[0;32m----> 4\u001b[0;31m   \u001b[0mlist_test_net\u001b[0m\u001b[0;34m.\u001b[0m\u001b[0mappend\u001b[0m\u001b[0;34m(\u001b[0m\u001b[0;34m[\u001b[0m\u001b[0mcurrNet\u001b[0m\u001b[0;34m,\u001b[0m \u001b[0;34m'train_acc = '\u001b[0m\u001b[0;34m,\u001b[0m \u001b[0mround\u001b[0m\u001b[0;34m(\u001b[0m\u001b[0msum\u001b[0m\u001b[0;34m(\u001b[0m\u001b[0macc\u001b[0m\u001b[0;34m)\u001b[0m\u001b[0;34m/\u001b[0m\u001b[0mlen\u001b[0m\u001b[0;34m(\u001b[0m\u001b[0macc\u001b[0m\u001b[0;34m)\u001b[0m\u001b[0;34m,\u001b[0m\u001b[0;36m4\u001b[0m\u001b[0;34m)\u001b[0m\u001b[0;34m,\u001b[0m \u001b[0;34m'test_acc = '\u001b[0m\u001b[0;34m,\u001b[0m\u001b[0mtest_accuracy\u001b[0m\u001b[0;34m]\u001b[0m\u001b[0;34m)\u001b[0m\u001b[0;34m\u001b[0m\u001b[0;34m\u001b[0m\u001b[0m\n\u001b[0m\u001b[1;32m      5\u001b[0m   \u001b[0mprint\u001b[0m\u001b[0;34m(\u001b[0m\u001b[0mlist_test_net\u001b[0m\u001b[0;34m[\u001b[0m\u001b[0;34m-\u001b[0m\u001b[0;36m1\u001b[0m\u001b[0;34m]\u001b[0m\u001b[0;34m)\u001b[0m\u001b[0;34m\u001b[0m\u001b[0;34m\u001b[0m\u001b[0m\n",
            "\u001b[0;31mNameError\u001b[0m: name 'list_test_net' is not defined"
          ]
        }
      ]
    }
  ]
}